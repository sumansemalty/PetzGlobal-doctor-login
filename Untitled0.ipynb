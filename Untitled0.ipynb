{
  "nbformat": 4,
  "nbformat_minor": 0,
  "metadata": {
    "colab": {
      "name": "Untitled0.ipynb",
      "provenance": [],
      "collapsed_sections": [],
      "authorship_tag": "ABX9TyMcyRrDVCX1dAiFTlDcVxBm",
      "include_colab_link": true
    },
    "kernelspec": {
      "name": "python3",
      "display_name": "Python 3"
    },
    "language_info": {
      "name": "python"
    }
  },
  "cells": [
    {
      "cell_type": "markdown",
      "metadata": {
        "id": "view-in-github",
        "colab_type": "text"
      },
      "source": [
        "<a href=\"https://colab.research.google.com/github/sumansemalty/PetzGlobal-doctor-login/blob/master/Untitled0.ipynb\" target=\"_parent\"><img src=\"https://colab.research.google.com/assets/colab-badge.svg\" alt=\"Open In Colab\"/></a>"
      ]
    },
    {
      "cell_type": "code",
      "metadata": {
        "id": "AHC8PJS10gBQ"
      },
      "source": [
        "### Data Collection\n",
        "import pandas_datareader as pdr\n",
        "key=\"090624b5f62c34c72ffb65b6d6e900d1b89403e7\""
      ],
      "execution_count": 5,
      "outputs": []
    },
    {
      "cell_type": "code",
      "metadata": {
        "id": "GPteQkc10zui"
      },
      "source": [
        "df = pdr.get_data_tiingo('AAPL', api_key=key)"
      ],
      "execution_count": 6,
      "outputs": []
    },
    {
      "cell_type": "code",
      "metadata": {
        "id": "OQsKjaZg1Jvb"
      },
      "source": [
        "df.to_csv('AAPL.csv')"
      ],
      "execution_count": 7,
      "outputs": []
    },
    {
      "cell_type": "code",
      "metadata": {
        "id": "ygHIqQ3y1oQG"
      },
      "source": [
        "import pandas as pd"
      ],
      "execution_count": 10,
      "outputs": []
    },
    {
      "cell_type": "code",
      "metadata": {
        "id": "g5NTMMqY1wi4"
      },
      "source": [
        "df=pd.read_csv('AAPL.csv')"
      ],
      "execution_count": 13,
      "outputs": []
    },
    {
      "cell_type": "code",
      "metadata": {
        "colab": {
          "base_uri": "https://localhost:8080/",
          "height": 309
        },
        "id": "RH-2kSFV2K0g",
        "outputId": "339a8d93-4609-4f2d-b5ba-d2c3056ed9b7"
      },
      "source": [
        "df.head()"
      ],
      "execution_count": 14,
      "outputs": [
        {
          "output_type": "execute_result",
          "data": {
            "text/html": [
              "<div>\n",
              "<style scoped>\n",
              "    .dataframe tbody tr th:only-of-type {\n",
              "        vertical-align: middle;\n",
              "    }\n",
              "\n",
              "    .dataframe tbody tr th {\n",
              "        vertical-align: top;\n",
              "    }\n",
              "\n",
              "    .dataframe thead th {\n",
              "        text-align: right;\n",
              "    }\n",
              "</style>\n",
              "<table border=\"1\" class=\"dataframe\">\n",
              "  <thead>\n",
              "    <tr style=\"text-align: right;\">\n",
              "      <th></th>\n",
              "      <th>symbol</th>\n",
              "      <th>date</th>\n",
              "      <th>close</th>\n",
              "      <th>high</th>\n",
              "      <th>low</th>\n",
              "      <th>open</th>\n",
              "      <th>volume</th>\n",
              "      <th>adjClose</th>\n",
              "      <th>adjHigh</th>\n",
              "      <th>adjLow</th>\n",
              "      <th>adjOpen</th>\n",
              "      <th>adjVolume</th>\n",
              "      <th>divCash</th>\n",
              "      <th>splitFactor</th>\n",
              "    </tr>\n",
              "  </thead>\n",
              "  <tbody>\n",
              "    <tr>\n",
              "      <th>0</th>\n",
              "      <td>AAPL</td>\n",
              "      <td>2016-04-05 00:00:00+00:00</td>\n",
              "      <td>109.81</td>\n",
              "      <td>110.73</td>\n",
              "      <td>109.420</td>\n",
              "      <td>109.51</td>\n",
              "      <td>26578652</td>\n",
              "      <td>25.529368</td>\n",
              "      <td>25.743256</td>\n",
              "      <td>25.438699</td>\n",
              "      <td>25.459622</td>\n",
              "      <td>106314608</td>\n",
              "      <td>0.0</td>\n",
              "      <td>1.0</td>\n",
              "    </tr>\n",
              "    <tr>\n",
              "      <th>1</th>\n",
              "      <td>AAPL</td>\n",
              "      <td>2016-04-06 00:00:00+00:00</td>\n",
              "      <td>110.96</td>\n",
              "      <td>110.98</td>\n",
              "      <td>109.200</td>\n",
              "      <td>110.23</td>\n",
              "      <td>26404077</td>\n",
              "      <td>25.796728</td>\n",
              "      <td>25.801378</td>\n",
              "      <td>25.387552</td>\n",
              "      <td>25.627013</td>\n",
              "      <td>105616308</td>\n",
              "      <td>0.0</td>\n",
              "      <td>1.0</td>\n",
              "    </tr>\n",
              "    <tr>\n",
              "      <th>2</th>\n",
              "      <td>AAPL</td>\n",
              "      <td>2016-04-07 00:00:00+00:00</td>\n",
              "      <td>108.54</td>\n",
              "      <td>110.42</td>\n",
              "      <td>108.121</td>\n",
              "      <td>109.95</td>\n",
              "      <td>31801870</td>\n",
              "      <td>25.234110</td>\n",
              "      <td>25.671185</td>\n",
              "      <td>25.136698</td>\n",
              "      <td>25.561917</td>\n",
              "      <td>127207480</td>\n",
              "      <td>0.0</td>\n",
              "      <td>1.0</td>\n",
              "    </tr>\n",
              "    <tr>\n",
              "      <th>3</th>\n",
              "      <td>AAPL</td>\n",
              "      <td>2016-04-08 00:00:00+00:00</td>\n",
              "      <td>108.66</td>\n",
              "      <td>109.77</td>\n",
              "      <td>108.170</td>\n",
              "      <td>108.91</td>\n",
              "      <td>23581740</td>\n",
              "      <td>25.262009</td>\n",
              "      <td>25.520069</td>\n",
              "      <td>25.148090</td>\n",
              "      <td>25.320130</td>\n",
              "      <td>94326960</td>\n",
              "      <td>0.0</td>\n",
              "      <td>1.0</td>\n",
              "    </tr>\n",
              "    <tr>\n",
              "      <th>4</th>\n",
              "      <td>AAPL</td>\n",
              "      <td>2016-04-11 00:00:00+00:00</td>\n",
              "      <td>109.02</td>\n",
              "      <td>110.61</td>\n",
              "      <td>108.830</td>\n",
              "      <td>108.97</td>\n",
              "      <td>29407518</td>\n",
              "      <td>25.345704</td>\n",
              "      <td>25.715358</td>\n",
              "      <td>25.301531</td>\n",
              "      <td>25.334080</td>\n",
              "      <td>117630072</td>\n",
              "      <td>0.0</td>\n",
              "      <td>1.0</td>\n",
              "    </tr>\n",
              "  </tbody>\n",
              "</table>\n",
              "</div>"
            ],
            "text/plain": [
              "  symbol                       date   close  ...  adjVolume  divCash  splitFactor\n",
              "0   AAPL  2016-04-05 00:00:00+00:00  109.81  ...  106314608      0.0          1.0\n",
              "1   AAPL  2016-04-06 00:00:00+00:00  110.96  ...  105616308      0.0          1.0\n",
              "2   AAPL  2016-04-07 00:00:00+00:00  108.54  ...  127207480      0.0          1.0\n",
              "3   AAPL  2016-04-08 00:00:00+00:00  108.66  ...   94326960      0.0          1.0\n",
              "4   AAPL  2016-04-11 00:00:00+00:00  109.02  ...  117630072      0.0          1.0\n",
              "\n",
              "[5 rows x 14 columns]"
            ]
          },
          "metadata": {
            "tags": []
          },
          "execution_count": 14
        }
      ]
    },
    {
      "cell_type": "code",
      "metadata": {
        "colab": {
          "base_uri": "https://localhost:8080/",
          "height": 309
        },
        "id": "vjPVXeaf2Qcf",
        "outputId": "e0bbd7fb-2a4a-450b-e752-6735438a2921"
      },
      "source": [
        "df.tail()"
      ],
      "execution_count": 15,
      "outputs": [
        {
          "output_type": "execute_result",
          "data": {
            "text/html": [
              "<div>\n",
              "<style scoped>\n",
              "    .dataframe tbody tr th:only-of-type {\n",
              "        vertical-align: middle;\n",
              "    }\n",
              "\n",
              "    .dataframe tbody tr th {\n",
              "        vertical-align: top;\n",
              "    }\n",
              "\n",
              "    .dataframe thead th {\n",
              "        text-align: right;\n",
              "    }\n",
              "</style>\n",
              "<table border=\"1\" class=\"dataframe\">\n",
              "  <thead>\n",
              "    <tr style=\"text-align: right;\">\n",
              "      <th></th>\n",
              "      <th>symbol</th>\n",
              "      <th>date</th>\n",
              "      <th>close</th>\n",
              "      <th>high</th>\n",
              "      <th>low</th>\n",
              "      <th>open</th>\n",
              "      <th>volume</th>\n",
              "      <th>adjClose</th>\n",
              "      <th>adjHigh</th>\n",
              "      <th>adjLow</th>\n",
              "      <th>adjOpen</th>\n",
              "      <th>adjVolume</th>\n",
              "      <th>divCash</th>\n",
              "      <th>splitFactor</th>\n",
              "    </tr>\n",
              "  </thead>\n",
              "  <tbody>\n",
              "    <tr>\n",
              "      <th>1253</th>\n",
              "      <td>AAPL</td>\n",
              "      <td>2021-03-26 00:00:00+00:00</td>\n",
              "      <td>121.21</td>\n",
              "      <td>121.4800</td>\n",
              "      <td>118.9200</td>\n",
              "      <td>120.35</td>\n",
              "      <td>94071234</td>\n",
              "      <td>121.21</td>\n",
              "      <td>121.4800</td>\n",
              "      <td>118.9200</td>\n",
              "      <td>120.35</td>\n",
              "      <td>94071234</td>\n",
              "      <td>0.0</td>\n",
              "      <td>1.0</td>\n",
              "    </tr>\n",
              "    <tr>\n",
              "      <th>1254</th>\n",
              "      <td>AAPL</td>\n",
              "      <td>2021-03-29 00:00:00+00:00</td>\n",
              "      <td>121.39</td>\n",
              "      <td>122.5800</td>\n",
              "      <td>120.7299</td>\n",
              "      <td>121.65</td>\n",
              "      <td>80819203</td>\n",
              "      <td>121.39</td>\n",
              "      <td>122.5800</td>\n",
              "      <td>120.7299</td>\n",
              "      <td>121.65</td>\n",
              "      <td>80819203</td>\n",
              "      <td>0.0</td>\n",
              "      <td>1.0</td>\n",
              "    </tr>\n",
              "    <tr>\n",
              "      <th>1255</th>\n",
              "      <td>AAPL</td>\n",
              "      <td>2021-03-30 00:00:00+00:00</td>\n",
              "      <td>119.90</td>\n",
              "      <td>120.4031</td>\n",
              "      <td>118.8600</td>\n",
              "      <td>120.11</td>\n",
              "      <td>85671919</td>\n",
              "      <td>119.90</td>\n",
              "      <td>120.4031</td>\n",
              "      <td>118.8600</td>\n",
              "      <td>120.11</td>\n",
              "      <td>85671919</td>\n",
              "      <td>0.0</td>\n",
              "      <td>1.0</td>\n",
              "    </tr>\n",
              "    <tr>\n",
              "      <th>1256</th>\n",
              "      <td>AAPL</td>\n",
              "      <td>2021-03-31 00:00:00+00:00</td>\n",
              "      <td>122.15</td>\n",
              "      <td>123.5200</td>\n",
              "      <td>121.1500</td>\n",
              "      <td>121.65</td>\n",
              "      <td>118323826</td>\n",
              "      <td>122.15</td>\n",
              "      <td>123.5200</td>\n",
              "      <td>121.1500</td>\n",
              "      <td>121.65</td>\n",
              "      <td>118323826</td>\n",
              "      <td>0.0</td>\n",
              "      <td>1.0</td>\n",
              "    </tr>\n",
              "    <tr>\n",
              "      <th>1257</th>\n",
              "      <td>AAPL</td>\n",
              "      <td>2021-04-01 00:00:00+00:00</td>\n",
              "      <td>123.00</td>\n",
              "      <td>124.1800</td>\n",
              "      <td>122.4900</td>\n",
              "      <td>123.66</td>\n",
              "      <td>75089134</td>\n",
              "      <td>123.00</td>\n",
              "      <td>124.1800</td>\n",
              "      <td>122.4900</td>\n",
              "      <td>123.66</td>\n",
              "      <td>75089134</td>\n",
              "      <td>0.0</td>\n",
              "      <td>1.0</td>\n",
              "    </tr>\n",
              "  </tbody>\n",
              "</table>\n",
              "</div>"
            ],
            "text/plain": [
              "     symbol                       date   close  ...  adjVolume  divCash  splitFactor\n",
              "1253   AAPL  2021-03-26 00:00:00+00:00  121.21  ...   94071234      0.0          1.0\n",
              "1254   AAPL  2021-03-29 00:00:00+00:00  121.39  ...   80819203      0.0          1.0\n",
              "1255   AAPL  2021-03-30 00:00:00+00:00  119.90  ...   85671919      0.0          1.0\n",
              "1256   AAPL  2021-03-31 00:00:00+00:00  122.15  ...  118323826      0.0          1.0\n",
              "1257   AAPL  2021-04-01 00:00:00+00:00  123.00  ...   75089134      0.0          1.0\n",
              "\n",
              "[5 rows x 14 columns]"
            ]
          },
          "metadata": {
            "tags": []
          },
          "execution_count": 15
        }
      ]
    },
    {
      "cell_type": "code",
      "metadata": {
        "id": "DOc-SZ0p2UN5"
      },
      "source": [
        "df1=df.reset_index()['close']"
      ],
      "execution_count": 16,
      "outputs": []
    },
    {
      "cell_type": "code",
      "metadata": {
        "colab": {
          "base_uri": "https://localhost:8080/"
        },
        "id": "-7LWlPvw2eN4",
        "outputId": "4d50d208-b73c-4f37-aa5b-e327f64820d4"
      },
      "source": [
        "df1"
      ],
      "execution_count": 20,
      "outputs": [
        {
          "output_type": "execute_result",
          "data": {
            "text/plain": [
              "0       109.81\n",
              "1       110.96\n",
              "2       108.54\n",
              "3       108.66\n",
              "4       109.02\n",
              "         ...  \n",
              "1253    121.21\n",
              "1254    121.39\n",
              "1255    119.90\n",
              "1256    122.15\n",
              "1257    123.00\n",
              "Name: close, Length: 1258, dtype: float64"
            ]
          },
          "metadata": {
            "tags": []
          },
          "execution_count": 20
        }
      ]
    },
    {
      "cell_type": "code",
      "metadata": {
        "colab": {
          "base_uri": "https://localhost:8080/",
          "height": 282
        },
        "id": "KjzOjGpt2uaq",
        "outputId": "2975a589-0a07-4ebe-9849-1deb344454ce"
      },
      "source": [
        "import matplotlib.pyplot as plt\n",
        "plt.plot(df1)"
      ],
      "execution_count": 21,
      "outputs": [
        {
          "output_type": "execute_result",
          "data": {
            "text/plain": [
              "[<matplotlib.lines.Line2D at 0x7fc33689fe90>]"
            ]
          },
          "metadata": {
            "tags": []
          },
          "execution_count": 21
        },
        {
          "output_type": "display_data",
          "data": {
            "image/png": "[encoded data removed]",
            "text/plain": [
              "<Figure size 432x288 with 1 Axes>"
            ]
          },
          "metadata": {
            "tags": [],
            "needs_background": "light"
          }
        }
      ]
    },
    {
      "cell_type": "code",
      "metadata": {
        "id": "SvergRF_2wul"
      },
      "source": [
        "### LSTM are sensitive to the scale of the data. so we apply MinMax scaler \n",
        "import numpy as np"
      ],
      "execution_count": 22,
      "outputs": []
    },
    {
      "cell_type": "code",
      "metadata": {
        "id": "NA_x0lQh26Iw"
      },
      "source": [
        "from sklearn.preprocessing import MinMaxScaler\n",
        "scaler=MinMaxScaler(feature_range=(0,1))\n",
        "df1=scaler.fit_transform(np.array(df1).reshape(-1,1))"
      ],
      "execution_count": 23,
      "outputs": []
    },
    {
      "cell_type": "code",
      "metadata": {
        "colab": {
          "base_uri": "https://localhost:8080/"
        },
        "id": "hFb6sYWC3E3o",
        "outputId": "6d53e0af-ecd8-4497-b603-7ef35d444816"
      },
      "source": [
        "print(df1)"
      ],
      "execution_count": 24,
      "outputs": [
        {
          "output_type": "stream",
          "text": [
            "[[0.04683103]\n",
            " [0.04959711]\n",
            " [0.04377631]\n",
            " ...\n",
            " [0.07110042]\n",
            " [0.07651233]\n",
            " [0.07855683]]\n"
          ],
          "name": "stdout"
        }
      ]
    },
    {
      "cell_type": "code",
      "metadata": {
        "id": "6feNyK6-3W9E"
      },
      "source": [
        "##splitting dataset into train and test split\n",
        "training_size=int(len(df1)*0.65)\n",
        "test_size=len(df1)-training_size\n",
        "train_data,test_data=df1[0:training_size,:],df1[training_size:len(df1),:1]"
      ],
      "execution_count": 25,
      "outputs": []
    },
    {
      "cell_type": "code",
      "metadata": {
        "colab": {
          "base_uri": "https://localhost:8080/"
        },
        "id": "eYVWOyve3ZC8",
        "outputId": "fbaee0ac-3208-459e-c542-87d20cea2ab0"
      },
      "source": [
        "training_size,test_size"
      ],
      "execution_count": 26,
      "outputs": [
        {
          "output_type": "execute_result",
          "data": {
            "text/plain": [
              "(817, 441)"
            ]
          },
          "metadata": {
            "tags": []
          },
          "execution_count": 26
        }
      ]
    },
    {
      "cell_type": "code",
      "metadata": {
        "colab": {
          "base_uri": "https://localhost:8080/"
        },
        "id": "5vyeeQ5y3jHw",
        "outputId": "591afee9-ccc7-450c-ba60-861a5d7d9e73"
      },
      "source": [
        "train_data"
      ],
      "execution_count": 27,
      "outputs": [
        {
          "output_type": "execute_result",
          "data": {
            "text/plain": [
              "array([[0.04683103],\n",
              "       [0.04959711],\n",
              "       [0.04377631],\n",
              "       [0.04406494],\n",
              "       [0.04493085],\n",
              "       [0.04834636],\n",
              "       [0.05219483],\n",
              "       [0.05233915],\n",
              "       [0.04692724],\n",
              "       [0.0412267 ],\n",
              "       [0.03985568],\n",
              "       [0.04038485],\n",
              "       [0.03759471],\n",
              "       [0.03689717],\n",
              "       [0.035454  ],\n",
              "       [0.03369814],\n",
              "       [0.01799158],\n",
              "       [0.01079976],\n",
              "       [0.00817799],\n",
              "       [0.00793746],\n",
              "       [0.01164161],\n",
              "       [0.00926037],\n",
              "       [0.00697535],\n",
              "       [0.00572459],\n",
              "       [0.00589296],\n",
              "       [0.0074083 ],\n",
              "       [0.00521948],\n",
              "       [0.        ],\n",
              "       [0.00043295],\n",
              "       [0.00851473],\n",
              "       [0.00757667],\n",
              "       [0.01015033],\n",
              "       [0.00928443],\n",
              "       [0.01173782],\n",
              "       [0.01464823],\n",
              "       [0.018184  ],\n",
              "       [0.02232111],\n",
              "       [0.02422129],\n",
              "       [0.02407697],\n",
              "       [0.02289838],\n",
              "       [0.01953097],\n",
              "       [0.01775105],\n",
              "       [0.01823211],\n",
              "       [0.01993987],\n",
              "       [0.02090198],\n",
              "       [0.02068551],\n",
              "       [0.02239327],\n",
              "       [0.02042093],\n",
              "       [0.01683704],\n",
              "       [0.01712568],\n",
              "       [0.01635598],\n",
              "       [0.01734215],\n",
              "       [0.01200241],\n",
              "       [0.01144919],\n",
              "       [0.01339747],\n",
              "       [0.01253157],\n",
              "       [0.01385448],\n",
              "       [0.00736019],\n",
              "       [0.004089  ],\n",
              "       [0.0078172 ],\n",
              "       [0.00976548],\n",
              "       [0.01265183],\n",
              "       [0.01334937],\n",
              "       [0.01118461],\n",
              "       [0.01248346],\n",
              "       [0.01346963],\n",
              "       [0.01524955],\n",
              "       [0.01597114],\n",
              "       [0.01702946],\n",
              "       [0.01570655],\n",
              "       [0.02032471],\n",
              "       [0.02030066],\n",
              "       [0.02282622],\n",
              "       [0.02292243],\n",
              "       [0.02313891],\n",
              "       [0.0218641 ],\n",
              "       [0.02001203],\n",
              "       [0.01683704],\n",
              "       [0.0152255 ],\n",
              "       [0.03033073],\n",
              "       [0.03367408],\n",
              "       [0.0333614 ],\n",
              "       [0.03778713],\n",
              "       [0.03401082],\n",
              "       [0.03716176],\n",
              "       [0.03735418],\n",
              "       [0.0412267 ],\n",
              "       [0.04336741],\n",
              "       [0.04442574],\n",
              "       [0.04247745],\n",
              "       [0.04230908],\n",
              "       [0.0429104 ],\n",
              "       [0.04603728],\n",
              "       [0.04579675],\n",
              "       [0.04541191],\n",
              "       [0.04507517],\n",
              "       [0.04574865],\n",
              "       [0.04370415],\n",
              "       [0.04452195],\n",
              "       [0.04254961],\n",
              "       [0.04144317],\n",
              "       [0.03992784],\n",
              "       [0.03963921],\n",
              "       [0.03766687],\n",
              "       [0.0379074 ],\n",
              "       [0.03942273],\n",
              "       [0.04182802],\n",
              "       [0.04175586],\n",
              "       [0.04334336],\n",
              "       [0.03651233],\n",
              "       [0.03076368],\n",
              "       [0.0363199 ],\n",
              "       [0.04235719],\n",
              "       [0.0515454 ],\n",
              "       [0.06068551],\n",
              "       [0.05912207],\n",
              "       [0.05589898],\n",
              "       [0.05587492],\n",
              "       [0.05582682],\n",
              "       [0.05840048],\n",
              "       [0.05380637],\n",
              "       [0.05421527],\n",
              "       [0.05472038],\n",
              "       [0.05678894],\n",
              "       [0.05253157],\n",
              "       [0.05462417],\n",
              "       [0.05334937],\n",
              "       [0.05450391],\n",
              "       [0.05462417],\n",
              "       [0.05664462],\n",
              "       [0.05705352],\n",
              "       [0.06184005],\n",
              "       [0.06244137],\n",
              "       [0.06494287],\n",
              "       [0.06407697],\n",
              "       [0.06564041],\n",
              "       [0.06544799],\n",
              "       [0.06525556],\n",
              "       [0.06441371],\n",
              "       [0.06426939],\n",
              "       [0.06316296],\n",
              "       [0.06568851],\n",
              "       [0.06713169],\n",
              "       [0.06073361],\n",
              "       [0.05806374],\n",
              "       [0.05623572],\n",
              "       [0.05580277],\n",
              "       [0.05087192],\n",
              "       [0.05111245],\n",
              "       [0.04687913],\n",
              "       [0.0444979 ],\n",
              "       [0.0482742 ],\n",
              "       [0.04983764],\n",
              "       [0.04940469],\n",
              "       [0.04197234],\n",
              "       [0.04351173],\n",
              "       [0.03696933],\n",
              "       [0.04033674],\n",
              "       [0.04726398],\n",
              "       [0.04716777],\n",
              "       [0.04743235],\n",
              "       [0.05144919],\n",
              "       [0.05161756],\n",
              "       [0.05024654],\n",
              "       [0.05159351],\n",
              "       [0.05106434],\n",
              "       [0.05079976],\n",
              "       [0.04853879],\n",
              "       [0.04606133],\n",
              "       [0.0470475 ],\n",
              "       [0.04514732],\n",
              "       [0.04716777],\n",
              "       [0.04976548],\n",
              "       [0.05238725],\n",
              "       [0.05678894],\n",
              "       [0.0552255 ],\n",
              "       [0.0597715 ],\n",
              "       [0.0597715 ],\n",
              "       [0.06128683],\n",
              "       [0.06164762],\n",
              "       [0.06325917],\n",
              "       [0.06400481],\n",
              "       [0.06426939],\n",
              "       [0.06241732],\n",
              "       [0.06297054],\n",
              "       [0.06475045],\n",
              "       [0.06354781],\n",
              "       [0.06347565],\n",
              "       [0.06128683],\n",
              "       [0.06208058],\n",
              "       [0.06176789],\n",
              "       [0.06318701],\n",
              "       [0.06631389],\n",
              "       [0.06891161],\n",
              "       [0.06920024],\n",
              "       [0.07073963],\n",
              "       [0.06953698],\n",
              "       [0.06903187],\n",
              "       [0.07134095],\n",
              "       [0.0713169 ],\n",
              "       [0.07081179],\n",
              "       [0.07134095],\n",
              "       [0.07153337],\n",
              "       [0.07126879],\n",
              "       [0.0758629 ],\n",
              "       [0.07600722],\n",
              "       [0.07603127],\n",
              "       [0.07526158],\n",
              "       [0.07458809],\n",
              "       [0.09238725],\n",
              "       [0.09185809],\n",
              "       [0.093181  ],\n",
              "       [0.0960914 ],\n",
              "       [0.09907396],\n",
              "       [0.10030066],\n",
              "       [0.10121467],\n",
              "       [0.10049308],\n",
              "       [0.10330728],\n",
              "       [0.10746843],\n",
              "       [0.10864702],\n",
              "       [0.10825015],\n",
              "       [0.10915213],\n",
              "       [0.11150932],\n",
              "       [0.11249549],\n",
              "       [0.11110042],\n",
              "       [0.11141311],\n",
              "       [0.11206254],\n",
              "       [0.11220686],\n",
              "       [0.11894167],\n",
              "       [0.11694528],\n",
              "       [0.11891762],\n",
              "       [0.11785929],\n",
              "       [0.11829224],\n",
              "       [0.11704149],\n",
              "       [0.1162718 ],\n",
              "       [0.11737823],\n",
              "       [0.11752255],\n",
              "       [0.11701744],\n",
              "       [0.12055322],\n",
              "       [0.12110643],\n",
              "       [0.11942273],\n",
              "       [0.12295851],\n",
              "       [0.11906194],\n",
              "       [0.1228623 ],\n",
              "       [0.12165965],\n",
              "       [0.12098617],\n",
              "       [0.12156344],\n",
              "       [0.12858689],\n",
              "       [0.12935658],\n",
              "       [0.12889958],\n",
              "       [0.12825015],\n",
              "       [0.12834636],\n",
              "       [0.13092002],\n",
              "       [0.12911606],\n",
              "       [0.12825015],\n",
              "       [0.12748046],\n",
              "       [0.12707156],\n",
              "       [0.12336741],\n",
              "       [0.12377631],\n",
              "       [0.12197234],\n",
              "       [0.12384847],\n",
              "       [0.12233313],\n",
              "       [0.12108238],\n",
              "       [0.12531569],\n",
              "       [0.12490679],\n",
              "       [0.12820204],\n",
              "       [0.13034275],\n",
              "       [0.12829826],\n",
              "       [0.12856284],\n",
              "       [0.1282261 ],\n",
              "       [0.1352736 ],\n",
              "       [0.13751052],\n",
              "       [0.13642814],\n",
              "       [0.13515334],\n",
              "       [0.1409982 ],\n",
              "       [0.15073963],\n",
              "       [0.15309681],\n",
              "       [0.15134095],\n",
              "       [0.1530006 ],\n",
              "       [0.15817198],\n",
              "       [0.15720986],\n",
              "       [0.15665664],\n",
              "       [0.14410102],\n",
              "       [0.14960914],\n",
              "       [0.15085989],\n",
              "       [0.15309681],\n",
              "       [0.15263981],\n",
              "       [0.15153337],\n",
              "       [0.15280818],\n",
              "       [0.1521828 ],\n",
              "       [0.15232712],\n",
              "       [0.1501383 ],\n",
              "       [0.15114853],\n",
              "       [0.15660854],\n",
              "       [0.1529525 ],\n",
              "       [0.15420325],\n",
              "       [0.15641612],\n",
              "       [0.1555021 ],\n",
              "       [0.1410463 ],\n",
              "       [0.13248346],\n",
              "       [0.13529765],\n",
              "       [0.13185809],\n",
              "       [0.12976548],\n",
              "       [0.12490679],\n",
              "       [0.13469633],\n",
              "       [0.13149729],\n",
              "       [0.13356584],\n",
              "       [0.13298857],\n",
              "       [0.13455201],\n",
              "       [0.13344558],\n",
              "       [0.12841852],\n",
              "       [0.13346963],\n",
              "       [0.12829826],\n",
              "       [0.12911606],\n",
              "       [0.1278653 ],\n",
              "       [0.12928443],\n",
              "       [0.12601323],\n",
              "       [0.1295009 ],\n",
              "       [0.13161756],\n",
              "       [0.13274805],\n",
              "       [0.13325316],\n",
              "       [0.1381359 ],\n",
              "       [0.14119062],\n",
              "       [0.14244137],\n",
              "       [0.14369212],\n",
              "       [0.1459531 ],\n",
              "       [0.1443175 ],\n",
              "       [0.14414913],\n",
              "       [0.14852676],\n",
              "       [0.1500902 ],\n",
              "       [0.15182201],\n",
              "       [0.14484666],\n",
              "       [0.14229705],\n",
              "       [0.14044498],\n",
              "       [0.14361996],\n",
              "       [0.16067348],\n",
              "       [0.15689717],\n",
              "       [0.15886951],\n",
              "       [0.16469032],\n",
              "       [0.16774504],\n",
              "       [0.17010222],\n",
              "       [0.15629585],\n",
              "       [0.16149128],\n",
              "       [0.16719182],\n",
              "       [0.17140108],\n",
              "       [0.16983764],\n",
              "       [0.16240529],\n",
              "       [0.16153939],\n",
              "       [0.16084185],\n",
              "       [0.16702345],\n",
              "       [0.16750451],\n",
              "       [0.16579675],\n",
              "       [0.16721587],\n",
              "       [0.17108839],\n",
              "       [0.17455201],\n",
              "       [0.17561034],\n",
              "       [0.17717378],\n",
              "       [0.17729405],\n",
              "       [0.17255562],\n",
              "       [0.17214672],\n",
              "       [0.17058328],\n",
              "       [0.16425737],\n",
              "       [0.17116055],\n",
              "       [0.16962117],\n",
              "       [0.16671076],\n",
              "       [0.16341551],\n",
              "       [0.16726398],\n",
              "       [0.16435358],\n",
              "       [0.1644979 ],\n",
              "       [0.15809982],\n",
              "       [0.15165364],\n",
              "       [0.1480457 ],\n",
              "       [0.14482261],\n",
              "       [0.15105232],\n",
              "       [0.15367408],\n",
              "       [0.15138906],\n",
              "       [0.1534095 ],\n",
              "       [0.15266386],\n",
              "       [0.15427541],\n",
              "       [0.15187011],\n",
              "       [0.15646422],\n",
              "       [0.15624775],\n",
              "       [0.1575466 ],\n",
              "       [0.15769092],\n",
              "       [0.15925436],\n",
              "       [0.15793145],\n",
              "       [0.16031269],\n",
              "       [0.16726398],\n",
              "       [0.1686831 ],\n",
              "       [0.16697535],\n",
              "       [0.15788334],\n",
              "       [0.15853277],\n",
              "       [0.15834035],\n",
              "       [0.16057727],\n",
              "       [0.15891762],\n",
              "       [0.16132291],\n",
              "       [0.17488876],\n",
              "       [0.18371618],\n",
              "       [0.18929645],\n",
              "       [0.18412508],\n",
              "       [0.18705953],\n",
              "       [0.19761876],\n",
              "       [0.20182802],\n",
              "       [0.20317498],\n",
              "       [0.20661455],\n",
              "       [0.20574865],\n",
              "       [0.20283824],\n",
              "       [0.20115454],\n",
              "       [0.19482862],\n",
              "       [0.18939266],\n",
              "       [0.19425135],\n",
              "       [0.19196633],\n",
              "       [0.19155743],\n",
              "       [0.19915815],\n",
              "       [0.20353578],\n",
              "       [0.20355983],\n",
              "       [0.20144317],\n",
              "       [0.19898978],\n",
              "       [0.19035478],\n",
              "       [0.19605532],\n",
              "       [0.19413109],\n",
              "       [0.19112447],\n",
              "       [0.19073963],\n",
              "       [0.18922429],\n",
              "       [0.18996993],\n",
              "       [0.1900902 ],\n",
              "       [0.19802766],\n",
              "       [0.19569453],\n",
              "       [0.19706554],\n",
              "       [0.19694528],\n",
              "       [0.20115454],\n",
              "       [0.2070475 ],\n",
              "       [0.20252556],\n",
              "       [0.20206855],\n",
              "       [0.20365604],\n",
              "       [0.20365604],\n",
              "       [0.19297655],\n",
              "       [0.19304871],\n",
              "       [0.19420325],\n",
              "       [0.18975346],\n",
              "       [0.19704149],\n",
              "       [0.19696933],\n",
              "       [0.19889357],\n",
              "       [0.20363199],\n",
              "       [0.20206855],\n",
              "       [0.20202044],\n",
              "       [0.20192423],\n",
              "       [0.20430547],\n",
              "       [0.20865905],\n",
              "       [0.20649429],\n",
              "       [0.21349369],\n",
              "       [0.21387853],\n",
              "       [0.2119543 ],\n",
              "       [0.20844257],\n",
              "       [0.20853879],\n",
              "       [0.20175586],\n",
              "       [0.19427541],\n",
              "       [0.19523752],\n",
              "       [0.18669874],\n",
              "       [0.1843175 ],\n",
              "       [0.18542393],\n",
              "       [0.18626578],\n",
              "       [0.16875526],\n",
              "       [0.15911004],\n",
              "       [0.17484065],\n",
              "       [0.16644618],\n",
              "       [0.15588695],\n",
              "       [0.15891762],\n",
              "       [0.17407096],\n",
              "       [0.17799158],\n",
              "       [0.18527962],\n",
              "       [0.19879735],\n",
              "       [0.19745039],\n",
              "       [0.19605532],\n",
              "       [0.19417919],\n",
              "       [0.19761876],\n",
              "       [0.20483464],\n",
              "       [0.213181  ],\n",
              "       [0.21178593],\n",
              "       [0.2111365 ],\n",
              "       [0.20363199],\n",
              "       [0.20654239],\n",
              "       [0.20800962],\n",
              "       [0.20764883],\n",
              "       [0.20370415],\n",
              "       [0.20829826],\n",
              "       [0.21561034],\n",
              "       [0.21979555],\n",
              "       [0.21558629],\n",
              "       [0.21190619],\n",
              "       [0.2124113 ],\n",
              "       [0.21089597],\n",
              "       [0.20435358],\n",
              "       [0.20420926],\n",
              "       [0.19466025],\n",
              "       [0.18883945],\n",
              "       [0.17943476],\n",
              "       [0.19826819],\n",
              "       [0.18761275],\n",
              "       [0.18313891],\n",
              "       [0.18626578],\n",
              "       [0.18361996],\n",
              "       [0.18773301],\n",
              "       [0.19547805],\n",
              "       [0.19834035],\n",
              "       [0.18770896],\n",
              "       [0.1917258 ],\n",
              "       [0.19942273],\n",
              "       [0.19747444],\n",
              "       [0.20156344],\n",
              "       [0.20298256],\n",
              "       [0.20560433],\n",
              "       [0.21142514],\n",
              "       [0.21046302],\n",
              "       [0.19834035],\n",
              "       [0.18131088],\n",
              "       [0.18015634],\n",
              "       [0.17462417],\n",
              "       [0.17633193],\n",
              "       [0.17770295],\n",
              "       [0.17313289],\n",
              "       [0.18020445],\n",
              "       [0.18944077],\n",
              "       [0.2074083 ],\n",
              "       [0.20817799],\n",
              "       [0.22487072],\n",
              "       [0.22806975],\n",
              "       [0.23021046],\n",
              "       [0.2333614 ],\n",
              "       [0.23980758],\n",
              "       [0.2363199 ],\n",
              "       [0.23526158],\n",
              "       [0.23114853],\n",
              "       [0.23533373],\n",
              "       [0.23247144],\n",
              "       [0.23083584],\n",
              "       [0.23401082],\n",
              "       [0.23288034],\n",
              "       [0.23576669],\n",
              "       [0.23526158],\n",
              "       [0.23629585],\n",
              "       [0.23466025],\n",
              "       [0.23369814],\n",
              "       [0.2321828 ],\n",
              "       [0.24028863],\n",
              "       [0.24411305],\n",
              "       [0.24767288],\n",
              "       [0.24928443],\n",
              "       [0.24803367],\n",
              "       [0.24380036],\n",
              "       [0.24266987],\n",
              "       [0.24519543],\n",
              "       [0.24139507],\n",
              "       [0.2416356 ],\n",
              "       [0.23692123],\n",
              "       [0.2366807 ],\n",
              "       [0.22934456],\n",
              "       [0.23129284],\n",
              "       [0.22879134],\n",
              "       [0.22749248],\n",
              "       [0.22087793],\n",
              "       [0.22631389],\n",
              "       [0.22566446],\n",
              "       [0.22888755],\n",
              "       [0.22794949],\n",
              "       [0.23292844],\n",
              "       [0.22508719],\n",
              "       [0.22864702],\n",
              "       [0.23482862],\n",
              "       [0.24110643],\n",
              "       [0.24055322],\n",
              "       [0.23461215],\n",
              "       [0.24218882],\n",
              "       [0.2429104 ],\n",
              "       [0.24190018],\n",
              "       [0.24319904],\n",
              "       [0.24067348],\n",
              "       [0.24423331],\n",
              "       [0.24317498],\n",
              "       [0.24358388],\n",
              "       [0.24692724],\n",
              "       [0.25130487],\n",
              "       [0.24983764],\n",
              "       [0.24206855],\n",
              "       [0.23949489],\n",
              "       [0.2404089 ],\n",
              "       [0.26737222],\n",
              "       [0.28153939],\n",
              "       [0.28298256],\n",
              "       [0.28558028],\n",
              "       [0.2808659 ],\n",
              "       [0.28120265],\n",
              "       [0.28512327],\n",
              "       [0.28187613],\n",
              "       [0.28509922],\n",
              "       [0.28721587],\n",
              "       [0.28839447],\n",
              "       [0.29580277],\n",
              "       [0.30604931],\n",
              "       [0.30095009],\n",
              "       [0.29993987],\n",
              "       [0.29996392],\n",
              "       [0.30102225],\n",
              "       [0.30263379],\n",
              "       [0.30691521],\n",
              "       [0.31114853],\n",
              "       [0.31903788],\n",
              "       [0.32396873],\n",
              "       [0.33022249],\n",
              "       [0.33197835],\n",
              "       [0.32839447],\n",
              "       [0.31932652],\n",
              "       [0.31499699],\n",
              "       [0.30785328],\n",
              "       [0.32113049],\n",
              "       [0.31444378],\n",
              "       [0.32728803],\n",
              "       [0.32110643],\n",
              "       [0.3067709 ],\n",
              "       [0.3076368 ],\n",
              "       [0.30794949],\n",
              "       [0.31194227],\n",
              "       [0.30624173],\n",
              "       [0.31377029],\n",
              "       [0.3171377 ],\n",
              "       [0.31288034],\n",
              "       [0.32377631],\n",
              "       [0.32567649],\n",
              "       [0.32933253],\n",
              "       [0.33419122],\n",
              "       [0.34090198],\n",
              "       [0.33108839],\n",
              "       [0.32218882],\n",
              "       [0.32093806],\n",
              "       [0.32839447],\n",
              "       [0.30311485],\n",
              "       [0.29852075],\n",
              "       [0.31694528],\n",
              "       [0.30552014],\n",
              "       [0.31704149],\n",
              "       [0.31473241],\n",
              "       [0.30229705],\n",
              "       [0.31021046],\n",
              "       [0.31343355],\n",
              "       [0.31843656],\n",
              "       [0.30006013],\n",
              "       [0.31138906],\n",
              "       [0.30297054],\n",
              "       [0.29320505],\n",
              "       [0.29575466],\n",
              "       [0.30912808],\n",
              "       [0.31720986],\n",
              "       [0.28175586],\n",
              "       [0.2675887 ],\n",
              "       [0.27283223],\n",
              "       [0.28769693],\n",
              "       [0.28418521],\n",
              "       [0.27451594],\n",
              "       [0.24974143],\n",
              "       [0.24507517],\n",
              "       [0.23201443],\n",
              "       [0.24310283],\n",
              "       [0.24820204],\n",
              "       [0.22975346],\n",
              "       [0.20839447],\n",
              "       [0.20791341],\n",
              "       [0.19711365],\n",
              "       [0.20271798],\n",
              "       [0.20180397],\n",
              "       [0.21791942],\n",
              "       [0.21457607],\n",
              "       [0.21224293],\n",
              "       [0.22725195],\n",
              "       [0.20769693],\n",
              "       [0.20295851],\n",
              "       [0.18797354],\n",
              "       [0.19064342],\n",
              "       [0.18831028],\n",
              "       [0.18944077],\n",
              "       [0.19389056],\n",
              "       [0.18073361],\n",
              "       [0.17702946],\n",
              "       [0.18215274],\n",
              "       [0.16969333],\n",
              "       [0.15992784],\n",
              "       [0.14525556],\n",
              "       [0.13587492],\n",
              "       [0.16074564],\n",
              "       [0.15829224],\n",
              "       [0.15848467],\n",
              "       [0.16211666],\n",
              "       [0.16254961],\n",
              "       [0.12471437],\n",
              "       [0.13931449],\n",
              "       [0.13852075],\n",
              "       [0.14530367],\n",
              "       [0.15146121],\n",
              "       [0.15263981],\n",
              "       [0.14900782],\n",
              "       [0.1434997 ],\n",
              "       [0.15088394],\n",
              "       [0.15538184],\n",
              "       [0.15759471],\n",
              "       [0.15990379],\n",
              "       [0.15143716],\n",
              "       [0.15292844],\n",
              "       [0.14999399],\n",
              "       [0.16216476],\n",
              "       [0.15865304],\n",
              "       [0.15475646],\n",
              "       [0.1801804 ],\n",
              "       [0.18304269],\n",
              "       [0.18323512],\n",
              "       [0.19461215],\n",
              "       [0.20165965],\n",
              "       [0.20180397],\n",
              "       [0.19386651],\n",
              "       [0.1925917 ],\n",
              "       [0.19023452],\n",
              "       [0.19374624],\n",
              "       [0.19203848],\n",
              "       [0.19352977],\n",
              "       [0.19261575],\n",
              "       [0.19384245],\n",
              "       [0.19648827],\n",
              "       [0.19415514],\n",
              "       [0.19874925],\n",
              "       [0.20177992],\n",
              "       [0.20202044],\n",
              "       [0.2033193 ],\n",
              "       [0.1991822 ],\n",
              "       [0.20355983],\n",
              "       [0.20567649],\n",
              "       [0.20490679],\n",
              "       [0.20247745],\n",
              "       [0.19761876],\n",
              "       [0.19860493],\n",
              "       [0.21301263],\n",
              "       [0.21784726],\n",
              "       [0.2197715 ],\n",
              "       [0.22463019],\n",
              "       [0.23037883],\n",
              "       [0.23494889],\n",
              "       [0.231365  ],\n",
              "       [0.23528563],\n",
              "       [0.2519543 ],\n",
              "       [0.24223692],\n",
              "       [0.2366807 ],\n",
              "       [0.23199038],\n",
              "       [0.23603127],\n",
              "       [0.23663259],\n",
              "       [0.2395911 ],\n",
              "       [0.24269393],\n",
              "       [0.24938064],\n",
              "       [0.25257968],\n",
              "       [0.25339747],\n",
              "       [0.25654841],\n",
              "       [0.26400481],\n",
              "       [0.26256164],\n",
              "       [0.26525556],\n",
              "       [0.26123873],\n",
              "       [0.2610463 ],\n",
              "       [0.26191221],\n",
              "       [0.26196031],\n",
              "       [0.27129284],\n",
              "       [0.27304871],\n",
              "       [0.27466025],\n",
              "       [0.28175586],\n",
              "       [0.28098617],\n",
              "       [0.27646422],\n",
              "       [0.27410704],\n",
              "       [0.27485268],\n",
              "       [0.26537583],\n",
              "       [0.28906795],\n",
              "       [0.2857727 ],\n",
              "       [0.29202646],\n",
              "       [0.28416115],\n",
              "       [0.27064342],\n",
              "       [0.27073963],\n",
              "       [0.26549609],\n",
              "       [0.25698136],\n",
              "       [0.22941672],\n",
              "       [0.23648827],\n",
              "       [0.24192423],\n",
              "       [0.23990379],\n",
              "       [0.23730607],\n",
              "       [0.2230908 ],\n",
              "       [0.23153337],\n",
              "       [0.22234516],\n",
              "       [0.21484065],\n",
              "       [0.213181  ],\n",
              "       [0.21140108],\n",
              "       [0.20935658],\n",
              "       [0.21156945],\n",
              "       [0.20380036],\n",
              "       [0.19954299],\n",
              "       [0.21479254],\n",
              "       [0.22176789],\n",
              "       [0.22821407],\n",
              "       [0.24007216],\n",
              "       [0.24591702],\n",
              "       [0.25128082],\n",
              "       [0.24978954],\n",
              "       [0.24969333],\n",
              "       [0.24630186],\n",
              "       [0.24906795],\n",
              "       [0.26003608],\n",
              "       [0.25864101],\n",
              "       [0.26246542],\n",
              "       [0.26082983],\n",
              "       [0.26034877],\n",
              "       [0.25310884],\n",
              "       [0.26328322],\n",
              "       [0.26313891],\n",
              "       [0.25876127],\n",
              "       [0.26749248],\n",
              "       [0.27033073]])"
            ]
          },
          "metadata": {
            "tags": []
          },
          "execution_count": 27
        }
      ]
    },
    {
      "cell_type": "code",
      "metadata": {
        "id": "DxU9Crxa3llM"
      },
      "source": [
        "import numpy\n",
        "# convert an array of values into a dataset matrix\n",
        "def create_dataset(dataset, time_step=1):\n",
        "\tdataX, dataY = [], []\n",
        "\tfor i in range(len(dataset)-time_step-1):\n",
        "\t\ta = dataset[i:(i+time_step), 0]   ###i=0, 0,1,2,3-----99   100 \n",
        "\t\tdataX.append(a)\n",
        "\t\tdataY.append(dataset[i + time_step, 0])\n",
        "\treturn numpy.array(dataX), numpy.array(dataY)"
      ],
      "execution_count": 28,
      "outputs": []
    },
    {
      "cell_type": "code",
      "metadata": {
        "id": "9gUoe9rW3wpt"
      },
      "source": [
        "# reshape into X=t,t+1,t+2,t+3 and Y=t+4\n",
        "time_step = 100\n",
        "X_train, y_train = create_dataset(train_data, time_step)\n",
        "X_test, ytest = create_dataset(test_data, time_step)"
      ],
      "execution_count": 29,
      "outputs": []
    },
    {
      "cell_type": "code",
      "metadata": {
        "colab": {
          "base_uri": "https://localhost:8080/"
        },
        "id": "e35_Na5h31wo",
        "outputId": "1d8676c8-bddd-4802-8ad7-2cb99bac3606"
      },
      "source": [
        "print(X_train.shape), print(y_train.shape)"
      ],
      "execution_count": 30,
      "outputs": [
        {
          "output_type": "stream",
          "text": [
            "(716, 100)\n",
            "(716,)\n"
          ],
          "name": "stdout"
        },
        {
          "output_type": "execute_result",
          "data": {
            "text/plain": [
              "(None, None)"
            ]
          },
          "metadata": {
            "tags": []
          },
          "execution_count": 30
        }
      ]
    },
    {
      "cell_type": "code",
      "metadata": {
        "colab": {
          "base_uri": "https://localhost:8080/"
        },
        "id": "i81qg6FG334r",
        "outputId": "e25a9572-7061-4856-f922-5f1029aa0ef4"
      },
      "source": [
        "print(X_test.shape), print(ytest.shape)"
      ],
      "execution_count": 31,
      "outputs": [
        {
          "output_type": "stream",
          "text": [
            "(340, 100)\n",
            "(340,)\n"
          ],
          "name": "stdout"
        },
        {
          "output_type": "execute_result",
          "data": {
            "text/plain": [
              "(None, None)"
            ]
          },
          "metadata": {
            "tags": []
          },
          "execution_count": 31
        }
      ]
    },
    {
      "cell_type": "code",
      "metadata": {
        "id": "fd51telv36qQ"
      },
      "source": [
        "# reshape input to be [samples, time steps, features] which is required for LSTM\n",
        "X_train =X_train.reshape(X_train.shape[0],X_train.shape[1] , 1)\n",
        "X_test = X_test.reshape(X_test.shape[0],X_test.shape[1] , 1)"
      ],
      "execution_count": 32,
      "outputs": []
    },
    {
      "cell_type": "code",
      "metadata": {
        "id": "nIA0oJJM3-jN"
      },
      "source": [
        "### Create the Stacked LSTM model\n",
        "from tensorflow.keras.models import Sequential\n",
        "from tensorflow.keras.layers import Dense\n",
        "from tensorflow.keras.layers import LSTM"
      ],
      "execution_count": 33,
      "outputs": []
    },
    {
      "cell_type": "code",
      "metadata": {
        "id": "nV3JWNv64CFa"
      },
      "source": [
        "model=Sequential()\n",
        "model.add(LSTM(50,return_sequences=True,input_shape=(100,1)))\n",
        "model.add(LSTM(50,return_sequences=True))\n",
        "model.add(LSTM(50))\n",
        "model.add(Dense(1))\n",
        "model.compile(loss='mean_squared_error',optimizer='adam')"
      ],
      "execution_count": 34,
      "outputs": []
    },
    {
      "cell_type": "code",
      "metadata": {
        "colab": {
          "base_uri": "https://localhost:8080/"
        },
        "id": "-lkwhIGB4I6V",
        "outputId": "30df2ca2-e615-4a0c-fa4d-5729e6d4d51a"
      },
      "source": [
        "model.summary()"
      ],
      "execution_count": 35,
      "outputs": [
        {
          "output_type": "stream",
          "text": [
            "Model: \"sequential\"\n",
            "_________________________________________________________________\n",
            "Layer (type)                 Output Shape              Param #   \n",
            "=================================================================\n",
            "lstm (LSTM)                  (None, 100, 50)           10400     \n",
            "_________________________________________________________________\n",
            "lstm_1 (LSTM)                (None, 100, 50)           20200     \n",
            "_________________________________________________________________\n",
            "lstm_2 (LSTM)                (None, 50)                20200     \n",
            "_________________________________________________________________\n",
            "dense (Dense)                (None, 1)                 51        \n",
            "=================================================================\n",
            "Total params: 50,851\n",
            "Trainable params: 50,851\n",
            "Non-trainable params: 0\n",
            "_________________________________________________________________\n"
          ],
          "name": "stdout"
        }
      ]
    },
    {
      "cell_type": "code",
      "metadata": {
        "colab": {
          "base_uri": "https://localhost:8080/"
        },
        "id": "VkuwzHfN4NJU",
        "outputId": "3ad7d905-e9e8-49d3-a717-4cea105d77bd"
      },
      "source": [
        "model.summary()"
      ],
      "execution_count": 36,
      "outputs": [
        {
          "output_type": "stream",
          "text": [
            "Model: \"sequential\"\n",
            "_________________________________________________________________\n",
            "Layer (type)                 Output Shape              Param #   \n",
            "=================================================================\n",
            "lstm (LSTM)                  (None, 100, 50)           10400     \n",
            "_________________________________________________________________\n",
            "lstm_1 (LSTM)                (None, 100, 50)           20200     \n",
            "_________________________________________________________________\n",
            "lstm_2 (LSTM)                (None, 50)                20200     \n",
            "_________________________________________________________________\n",
            "dense (Dense)                (None, 1)                 51        \n",
            "=================================================================\n",
            "Total params: 50,851\n",
            "Trainable params: 50,851\n",
            "Non-trainable params: 0\n",
            "_________________________________________________________________\n"
          ],
          "name": "stdout"
        }
      ]
    },
    {
      "cell_type": "code",
      "metadata": {
        "colab": {
          "base_uri": "https://localhost:8080/"
        },
        "id": "dkOZ4mc74Pd5",
        "outputId": "fb84bbc5-3e29-46ff-c5e2-57d6074c7841"
      },
      "source": [
        "model.fit(X_train,y_train,validation_data=(X_test,ytest),epochs=100,batch_size=64,verbose=1)"
      ],
      "execution_count": 37,
      "outputs": [
        {
          "output_type": "stream",
          "text": [
            "Epoch 1/100\n",
            "12/12 [==============================] - 8s 317ms/step - loss: 0.0215 - val_loss: 0.0441\n",
            "Epoch 2/100\n",
            "12/12 [==============================] - 2s 195ms/step - loss: 0.0024 - val_loss: 0.0249\n",
            "Epoch 3/100\n",
            "12/12 [==============================] - 2s 197ms/step - loss: 0.0011 - val_loss: 0.0213\n",
            "Epoch 4/100\n",
            "12/12 [==============================] - 2s 195ms/step - loss: 5.2888e-04 - val_loss: 0.0208\n",
            "Epoch 5/100\n",
            "12/12 [==============================] - 2s 195ms/step - loss: 4.3797e-04 - val_loss: 0.0199\n",
            "Epoch 6/100\n",
            "12/12 [==============================] - 2s 198ms/step - loss: 4.1140e-04 - val_loss: 0.0193\n",
            "Epoch 7/100\n",
            "12/12 [==============================] - 2s 198ms/step - loss: 4.1061e-04 - val_loss: 0.0189\n",
            "Epoch 8/100\n",
            "12/12 [==============================] - 2s 200ms/step - loss: 3.6702e-04 - val_loss: 0.0185\n",
            "Epoch 9/100\n",
            "12/12 [==============================] - 2s 199ms/step - loss: 3.7242e-04 - val_loss: 0.0180\n",
            "Epoch 10/100\n",
            "12/12 [==============================] - 2s 198ms/step - loss: 3.5013e-04 - val_loss: 0.0176\n",
            "Epoch 11/100\n",
            "12/12 [==============================] - 2s 198ms/step - loss: 3.6725e-04 - val_loss: 0.0172\n",
            "Epoch 12/100\n",
            "12/12 [==============================] - 2s 201ms/step - loss: 3.3564e-04 - val_loss: 0.0168\n",
            "Epoch 13/100\n",
            "12/12 [==============================] - 2s 205ms/step - loss: 3.2539e-04 - val_loss: 0.0164\n",
            "Epoch 14/100\n",
            "12/12 [==============================] - 2s 202ms/step - loss: 3.3861e-04 - val_loss: 0.0159\n",
            "Epoch 15/100\n",
            "12/12 [==============================] - 2s 206ms/step - loss: 3.2969e-04 - val_loss: 0.0155\n",
            "Epoch 16/100\n",
            "12/12 [==============================] - 2s 199ms/step - loss: 3.0823e-04 - val_loss: 0.0150\n",
            "Epoch 17/100\n",
            "12/12 [==============================] - 2s 202ms/step - loss: 2.7675e-04 - val_loss: 0.0147\n",
            "Epoch 18/100\n",
            "12/12 [==============================] - 2s 199ms/step - loss: 2.9881e-04 - val_loss: 0.0142\n",
            "Epoch 19/100\n",
            "12/12 [==============================] - 2s 203ms/step - loss: 3.2294e-04 - val_loss: 0.0143\n",
            "Epoch 20/100\n",
            "12/12 [==============================] - 2s 203ms/step - loss: 3.2859e-04 - val_loss: 0.0135\n",
            "Epoch 21/100\n",
            "12/12 [==============================] - 2s 209ms/step - loss: 2.8340e-04 - val_loss: 0.0132\n",
            "Epoch 22/100\n",
            "12/12 [==============================] - 2s 206ms/step - loss: 2.3448e-04 - val_loss: 0.0130\n",
            "Epoch 23/100\n",
            "12/12 [==============================] - 2s 209ms/step - loss: 2.5209e-04 - val_loss: 0.0130\n",
            "Epoch 24/100\n",
            "12/12 [==============================] - 2s 206ms/step - loss: 2.4412e-04 - val_loss: 0.0126\n",
            "Epoch 25/100\n",
            "12/12 [==============================] - 2s 203ms/step - loss: 2.4946e-04 - val_loss: 0.0141\n",
            "Epoch 26/100\n",
            "12/12 [==============================] - 2s 207ms/step - loss: 2.5299e-04 - val_loss: 0.0128\n",
            "Epoch 27/100\n",
            "12/12 [==============================] - 2s 206ms/step - loss: 2.4726e-04 - val_loss: 0.0125\n",
            "Epoch 28/100\n",
            "12/12 [==============================] - 2s 205ms/step - loss: 3.1971e-04 - val_loss: 0.0138\n",
            "Epoch 29/100\n",
            "12/12 [==============================] - 3s 212ms/step - loss: 2.0872e-04 - val_loss: 0.0123\n",
            "Epoch 30/100\n",
            "12/12 [==============================] - 2s 209ms/step - loss: 2.5645e-04 - val_loss: 0.0135\n",
            "Epoch 31/100\n",
            "12/12 [==============================] - 2s 203ms/step - loss: 2.1171e-04 - val_loss: 0.0133\n",
            "Epoch 32/100\n",
            "12/12 [==============================] - 2s 202ms/step - loss: 2.0223e-04 - val_loss: 0.0150\n",
            "Epoch 33/100\n",
            "12/12 [==============================] - 2s 205ms/step - loss: 2.1962e-04 - val_loss: 0.0130\n",
            "Epoch 34/100\n",
            "12/12 [==============================] - 2s 204ms/step - loss: 1.8140e-04 - val_loss: 0.0132\n",
            "Epoch 35/100\n",
            "12/12 [==============================] - 2s 204ms/step - loss: 1.8911e-04 - val_loss: 0.0131\n",
            "Epoch 36/100\n",
            "12/12 [==============================] - 2s 207ms/step - loss: 1.8349e-04 - val_loss: 0.0127\n",
            "Epoch 37/100\n",
            "12/12 [==============================] - 2s 207ms/step - loss: 2.0874e-04 - val_loss: 0.0130\n",
            "Epoch 38/100\n",
            "12/12 [==============================] - 2s 205ms/step - loss: 1.9279e-04 - val_loss: 0.0124\n",
            "Epoch 39/100\n",
            "12/12 [==============================] - 2s 207ms/step - loss: 2.0003e-04 - val_loss: 0.0131\n",
            "Epoch 40/100\n",
            "12/12 [==============================] - 2s 206ms/step - loss: 1.8607e-04 - val_loss: 0.0125\n",
            "Epoch 41/100\n",
            "12/12 [==============================] - 2s 209ms/step - loss: 1.8189e-04 - val_loss: 0.0124\n",
            "Epoch 42/100\n",
            "12/12 [==============================] - 2s 207ms/step - loss: 1.8610e-04 - val_loss: 0.0132\n",
            "Epoch 43/100\n",
            "12/12 [==============================] - 3s 211ms/step - loss: 2.0520e-04 - val_loss: 0.0112\n",
            "Epoch 44/100\n",
            "12/12 [==============================] - 2s 208ms/step - loss: 1.7786e-04 - val_loss: 0.0112\n",
            "Epoch 45/100\n",
            "12/12 [==============================] - 2s 207ms/step - loss: 1.9948e-04 - val_loss: 0.0132\n",
            "Epoch 46/100\n",
            "12/12 [==============================] - 2s 205ms/step - loss: 2.2594e-04 - val_loss: 0.0115\n",
            "Epoch 47/100\n",
            "12/12 [==============================] - 3s 211ms/step - loss: 1.7703e-04 - val_loss: 0.0113\n",
            "Epoch 48/100\n",
            "12/12 [==============================] - 3s 213ms/step - loss: 1.8751e-04 - val_loss: 0.0117\n",
            "Epoch 49/100\n",
            "12/12 [==============================] - 2s 209ms/step - loss: 1.8606e-04 - val_loss: 0.0118\n",
            "Epoch 50/100\n",
            "12/12 [==============================] - 3s 214ms/step - loss: 1.7772e-04 - val_loss: 0.0116\n",
            "Epoch 51/100\n",
            "12/12 [==============================] - 2s 205ms/step - loss: 1.7263e-04 - val_loss: 0.0112\n",
            "Epoch 52/100\n",
            "12/12 [==============================] - 2s 206ms/step - loss: 1.7227e-04 - val_loss: 0.0117\n",
            "Epoch 53/100\n",
            "12/12 [==============================] - 2s 209ms/step - loss: 1.7418e-04 - val_loss: 0.0110\n",
            "Epoch 54/100\n",
            "12/12 [==============================] - 2s 207ms/step - loss: 1.4752e-04 - val_loss: 0.0109\n",
            "Epoch 55/100\n",
            "12/12 [==============================] - 2s 203ms/step - loss: 1.7001e-04 - val_loss: 0.0100\n",
            "Epoch 56/100\n",
            "12/12 [==============================] - 2s 205ms/step - loss: 2.0765e-04 - val_loss: 0.0101\n",
            "Epoch 57/100\n",
            "12/12 [==============================] - 2s 210ms/step - loss: 1.7922e-04 - val_loss: 0.0111\n",
            "Epoch 58/100\n",
            "12/12 [==============================] - 2s 208ms/step - loss: 2.1320e-04 - val_loss: 0.0103\n",
            "Epoch 59/100\n",
            "12/12 [==============================] - 2s 208ms/step - loss: 1.6321e-04 - val_loss: 0.0102\n",
            "Epoch 60/100\n",
            "12/12 [==============================] - 3s 212ms/step - loss: 1.5138e-04 - val_loss: 0.0104\n",
            "Epoch 61/100\n",
            "12/12 [==============================] - 3s 210ms/step - loss: 1.5459e-04 - val_loss: 0.0098\n",
            "Epoch 62/100\n",
            "12/12 [==============================] - 2s 207ms/step - loss: 1.3958e-04 - val_loss: 0.0095\n",
            "Epoch 63/100\n",
            "12/12 [==============================] - 2s 202ms/step - loss: 2.0562e-04 - val_loss: 0.0100\n",
            "Epoch 64/100\n",
            "12/12 [==============================] - 2s 211ms/step - loss: 1.5767e-04 - val_loss: 0.0094\n",
            "Epoch 65/100\n",
            "12/12 [==============================] - 2s 208ms/step - loss: 1.5931e-04 - val_loss: 0.0091\n",
            "Epoch 66/100\n",
            "12/12 [==============================] - 3s 211ms/step - loss: 1.5750e-04 - val_loss: 0.0095\n",
            "Epoch 67/100\n",
            "12/12 [==============================] - 2s 208ms/step - loss: 1.4087e-04 - val_loss: 0.0091\n",
            "Epoch 68/100\n",
            "12/12 [==============================] - 3s 211ms/step - loss: 1.5393e-04 - val_loss: 0.0093\n",
            "Epoch 69/100\n",
            "12/12 [==============================] - 2s 206ms/step - loss: 1.7273e-04 - val_loss: 0.0089\n",
            "Epoch 70/100\n",
            "12/12 [==============================] - 3s 210ms/step - loss: 1.3895e-04 - val_loss: 0.0085\n",
            "Epoch 71/100\n",
            "12/12 [==============================] - 2s 208ms/step - loss: 1.4232e-04 - val_loss: 0.0090\n",
            "Epoch 72/100\n",
            "12/12 [==============================] - 2s 205ms/step - loss: 1.3953e-04 - val_loss: 0.0086\n",
            "Epoch 73/100\n",
            "12/12 [==============================] - 2s 210ms/step - loss: 1.3753e-04 - val_loss: 0.0087\n",
            "Epoch 74/100\n",
            "12/12 [==============================] - 2s 204ms/step - loss: 1.3268e-04 - val_loss: 0.0083\n",
            "Epoch 75/100\n",
            "12/12 [==============================] - 2s 207ms/step - loss: 1.3825e-04 - val_loss: 0.0082\n",
            "Epoch 76/100\n",
            "12/12 [==============================] - 2s 203ms/step - loss: 1.3137e-04 - val_loss: 0.0080\n",
            "Epoch 77/100\n",
            "12/12 [==============================] - 2s 206ms/step - loss: 1.2757e-04 - val_loss: 0.0080\n",
            "Epoch 78/100\n",
            "12/12 [==============================] - 2s 202ms/step - loss: 1.1783e-04 - val_loss: 0.0079\n",
            "Epoch 79/100\n",
            "12/12 [==============================] - 2s 208ms/step - loss: 1.2776e-04 - val_loss: 0.0080\n",
            "Epoch 80/100\n",
            "12/12 [==============================] - 2s 205ms/step - loss: 1.1917e-04 - val_loss: 0.0077\n",
            "Epoch 81/100\n",
            "12/12 [==============================] - 2s 200ms/step - loss: 1.3514e-04 - val_loss: 0.0076\n",
            "Epoch 82/100\n",
            "12/12 [==============================] - 2s 205ms/step - loss: 1.2592e-04 - val_loss: 0.0074\n",
            "Epoch 83/100\n",
            "12/12 [==============================] - 2s 201ms/step - loss: 1.1230e-04 - val_loss: 0.0076\n",
            "Epoch 84/100\n",
            "12/12 [==============================] - 2s 204ms/step - loss: 1.4095e-04 - val_loss: 0.0073\n",
            "Epoch 85/100\n",
            "12/12 [==============================] - 2s 202ms/step - loss: 1.1700e-04 - val_loss: 0.0076\n",
            "Epoch 86/100\n",
            "12/12 [==============================] - 2s 206ms/step - loss: 1.1901e-04 - val_loss: 0.0072\n",
            "Epoch 87/100\n",
            "12/12 [==============================] - 2s 205ms/step - loss: 1.1597e-04 - val_loss: 0.0072\n",
            "Epoch 88/100\n",
            "12/12 [==============================] - 2s 207ms/step - loss: 1.1938e-04 - val_loss: 0.0070\n",
            "Epoch 89/100\n",
            "12/12 [==============================] - 2s 205ms/step - loss: 1.1529e-04 - val_loss: 0.0073\n",
            "Epoch 90/100\n",
            "12/12 [==============================] - 2s 208ms/step - loss: 1.2962e-04 - val_loss: 0.0070\n",
            "Epoch 91/100\n",
            "12/12 [==============================] - 2s 205ms/step - loss: 1.1265e-04 - val_loss: 0.0069\n",
            "Epoch 92/100\n",
            "12/12 [==============================] - 2s 206ms/step - loss: 1.1740e-04 - val_loss: 0.0069\n",
            "Epoch 93/100\n",
            "12/12 [==============================] - 2s 202ms/step - loss: 1.1043e-04 - val_loss: 0.0069\n",
            "Epoch 94/100\n",
            "12/12 [==============================] - 2s 205ms/step - loss: 1.4346e-04 - val_loss: 0.0070\n",
            "Epoch 95/100\n",
            "12/12 [==============================] - 3s 211ms/step - loss: 1.2456e-04 - val_loss: 0.0066\n",
            "Epoch 96/100\n",
            "12/12 [==============================] - 2s 205ms/step - loss: 1.1025e-04 - val_loss: 0.0066\n",
            "Epoch 97/100\n",
            "12/12 [==============================] - 3s 211ms/step - loss: 1.0470e-04 - val_loss: 0.0063\n",
            "Epoch 98/100\n",
            "12/12 [==============================] - 2s 205ms/step - loss: 1.2054e-04 - val_loss: 0.0064\n",
            "Epoch 99/100\n",
            "12/12 [==============================] - 3s 207ms/step - loss: 1.0662e-04 - val_loss: 0.0063\n",
            "Epoch 100/100\n",
            "12/12 [==============================] - 2s 207ms/step - loss: 9.5943e-05 - val_loss: 0.0065\n"
          ],
          "name": "stdout"
        },
        {
          "output_type": "execute_result",
          "data": {
            "text/plain": [
              "<tensorflow.python.keras.callbacks.History at 0x7fc2efa55090>"
            ]
          },
          "metadata": {
            "tags": []
          },
          "execution_count": 37
        }
      ]
    },
    {
      "cell_type": "code",
      "metadata": {
        "id": "IblerrWH5e-g"
      },
      "source": [
        "import tensorflow as tf"
      ],
      "execution_count": 38,
      "outputs": []
    },
    {
      "cell_type": "code",
      "metadata": {
        "colab": {
          "base_uri": "https://localhost:8080/",
          "height": 35
        },
        "id": "LE4_Vrvg5iUt",
        "outputId": "281b12a9-679c-4a55-ff84-4e78e6ffda38"
      },
      "source": [
        "tf.__version__"
      ],
      "execution_count": 39,
      "outputs": [
        {
          "output_type": "execute_result",
          "data": {
            "application/vnd.google.colaboratory.intrinsic+json": {
              "type": "string"
            },
            "text/plain": [
              "'2.4.1'"
            ]
          },
          "metadata": {
            "tags": []
          },
          "execution_count": 39
        }
      ]
    },
    {
      "cell_type": "code",
      "metadata": {
        "id": "x-raavKl5jm4"
      },
      "source": [
        "### Lets Do the prediction and check performance metrics\n",
        "train_predict=model.predict(X_train)\n",
        "test_predict=model.predict(X_test)"
      ],
      "execution_count": 40,
      "outputs": []
    },
    {
      "cell_type": "code",
      "metadata": {
        "id": "J0jL1mZR5nzx"
      },
      "source": [
        "##Transformback to original form\n",
        "train_predict=scaler.inverse_transform(train_predict)\n",
        "test_predict=scaler.inverse_transform(test_predict)"
      ],
      "execution_count": 41,
      "outputs": []
    },
    {
      "cell_type": "code",
      "metadata": {
        "colab": {
          "base_uri": "https://localhost:8080/"
        },
        "id": "jzIg7LYe5rm7",
        "outputId": "282b4980-5469-4f75-a22c-f7ad710f2a4a"
      },
      "source": [
        "### Calculate RMSE performance metrics\n",
        "import math\n",
        "from sklearn.metrics import mean_squared_error\n",
        "math.sqrt(mean_squared_error(y_train,train_predict))"
      ],
      "execution_count": 42,
      "outputs": [
        {
          "output_type": "execute_result",
          "data": {
            "text/plain": [
              "165.39290745105447"
            ]
          },
          "metadata": {
            "tags": []
          },
          "execution_count": 42
        }
      ]
    },
    {
      "cell_type": "code",
      "metadata": {
        "colab": {
          "base_uri": "https://localhost:8080/"
        },
        "id": "fXsFpbV35v6-",
        "outputId": "0ab5d252-afba-4a56-9456-2f78aaad153e"
      },
      "source": [
        "### Test Data RMSE\n",
        "math.sqrt(mean_squared_error(ytest,test_predict))"
      ],
      "execution_count": 43,
      "outputs": [
        {
          "output_type": "execute_result",
          "data": {
            "text/plain": [
              "250.87394232716355"
            ]
          },
          "metadata": {
            "tags": []
          },
          "execution_count": 43
        }
      ]
    },
    {
      "cell_type": "code",
      "metadata": {
        "colab": {
          "base_uri": "https://localhost:8080/",
          "height": 265
        },
        "id": "W6ooQoNM51B_",
        "outputId": "d8f5b81f-ee45-4666-8931-44d2d2e0a9c4"
      },
      "source": [
        "### Plotting \n",
        "# shift train predictions for plotting\n",
        "look_back=100\n",
        "trainPredictPlot = numpy.empty_like(df1)\n",
        "trainPredictPlot[:, :] = np.nan\n",
        "trainPredictPlot[look_back:len(train_predict)+look_back, :] = train_predict\n",
        "# shift test predictions for plotting\n",
        "testPredictPlot = numpy.empty_like(df1)\n",
        "testPredictPlot[:, :] = numpy.nan\n",
        "testPredictPlot[len(train_predict)+(look_back*2)+1:len(df1)-1, :] = test_predict\n",
        "# plot baseline and predictions\n",
        "plt.plot(scaler.inverse_transform(df1))\n",
        "plt.plot(trainPredictPlot)\n",
        "plt.plot(testPredictPlot)\n",
        "plt.show()"
      ],
      "execution_count": 44,
      "outputs": [
        {
          "output_type": "display_data",
          "data": {
            "image/png": "[encoded data removed]",
            "text/plain": [
              "<Figure size 432x288 with 1 Axes>"
            ]
          },
          "metadata": {
            "tags": [],
            "needs_background": "light"
          }
        }
      ]
    },
    {
      "cell_type": "code",
      "metadata": {
        "colab": {
          "base_uri": "https://localhost:8080/"
        },
        "id": "LZ3-q1Dk6G45",
        "outputId": "2014d705-5b09-458b-986f-ec9f35ac5ead"
      },
      "source": [
        "len(test_data)"
      ],
      "execution_count": 45,
      "outputs": [
        {
          "output_type": "execute_result",
          "data": {
            "text/plain": [
              "441"
            ]
          },
          "metadata": {
            "tags": []
          },
          "execution_count": 45
        }
      ]
    },
    {
      "cell_type": "code",
      "metadata": {
        "colab": {
          "base_uri": "https://localhost:8080/"
        },
        "id": "sMouqsTn6SF3",
        "outputId": "ab20f876-fb75-49e2-e080-0f752a12b2f7"
      },
      "source": [
        "x_input=test_data[341:].reshape(1,-1)\n",
        "x_input.shape"
      ],
      "execution_count": 46,
      "outputs": [
        {
          "output_type": "execute_result",
          "data": {
            "text/plain": [
              "(1, 100)"
            ]
          },
          "metadata": {
            "tags": []
          },
          "execution_count": 46
        }
      ]
    },
    {
      "cell_type": "code",
      "metadata": {
        "id": "woZP-WA96UOB"
      },
      "source": [
        "temp_input=list(x_input)\n",
        "temp_input=temp_input[0].tolist()"
      ],
      "execution_count": 47,
      "outputs": []
    },
    {
      "cell_type": "code",
      "metadata": {
        "colab": {
          "base_uri": "https://localhost:8080/"
        },
        "id": "XC70WBk76Ydm",
        "outputId": "e21603f2-c617-4ade-af1c-d30d66d56097"
      },
      "source": [
        "temp_input"
      ],
      "execution_count": 48,
      "outputs": [
        {
          "output_type": "execute_result",
          "data": {
            "text/plain": [
              "[0.06819001803968727,\n",
              " 0.062489476849067915,\n",
              " 0.06164762477450386,\n",
              " 0.0701142513529765,\n",
              " 0.0694407696933253,\n",
              " 0.06956103427540589,\n",
              " 0.07206253758268188,\n",
              " 0.06987372218881538,\n",
              " 0.0666025255562237,\n",
              " 0.06806975345760674,\n",
              " 0.0649428743235117,\n",
              " 0.056548406494287384,\n",
              " 0.05972339146121464,\n",
              " 0.06179194227300061,\n",
              " 0.06313890559230306,\n",
              " 0.06905592303066743,\n",
              " 0.07788334335538183,\n",
              " 0.07874924834636199,\n",
              " 0.07841250751653633,\n",
              " 0.07675285628382439,\n",
              " 0.08036079374624172,\n",
              " 0.08187612748045697,\n",
              " 0.07562236921226695,\n",
              " 0.0791340950090198,\n",
              " 0.07713770294648226,\n",
              " 0.07562236921226695,\n",
              " 0.0902946482260974,\n",
              " 0.0901262778111846,\n",
              " 0.09226698737221883,\n",
              " 0.08734816596512324,\n",
              " 0.0911365003006614,\n",
              " 0.09991581479254358,\n",
              " 0.09770294648226097,\n",
              " 0.10013229104028859,\n",
              " 0.11148526758869509,\n",
              " 0.10710763680096214,\n",
              " 0.1043415514131088,\n",
              " 0.10186410102224891,\n",
              " 0.09397474443776305,\n",
              " 0.0978232110643415,\n",
              " 0.08721587492483462,\n",
              " 0.09760673481659649,\n",
              " 0.10032471437161755,\n",
              " 0.09294046903187009,\n",
              " 0.09250751653638006,\n",
              " 0.09753457606734811,\n",
              " 0.09277209861695729,\n",
              " 0.08851473241130486,\n",
              " 0.09017438364401681,\n",
              " 0.10027660853878534,\n",
              " 0.11191822008418523,\n",
              " 0.11720986169573056,\n",
              " 0.12647023451593503,\n",
              " 0.1270475045099218,\n",
              " 0.12440168370414911,\n",
              " 0.11244738424533973,\n",
              " 0.10010823812387254,\n",
              " 0.10535177390258565,\n",
              " 0.10739627179795552,\n",
              " 0.10487071557426336,\n",
              " 0.11316897173782314,\n",
              " 0.11165363800360789,\n",
              " 0.11201443174984965,\n",
              " 0.10984966927239925,\n",
              " 0.10835838845460005,\n",
              " 0.10773301262778107,\n",
              " 0.1083102826217679,\n",
              " 0.10306674684305472,\n",
              " 0.09741431148526758,\n",
              " 0.09469633193024657,\n",
              " 0.09508117859290438,\n",
              " 0.08577269993986769,\n",
              " 0.08543595911004209,\n",
              " 0.08420926037282017,\n",
              " 0.07372218881539383,\n",
              " 0.07437161755862898,\n",
              " 0.09007817197835238,\n",
              " 0.08365604329524956,\n",
              " 0.0762958508719182,\n",
              " 0.07165363800360791,\n",
              " 0.07475646422128684,\n",
              " 0.0625856885147324,\n",
              " 0.07395069152134692,\n",
              " 0.0712928442573662,\n",
              " 0.07605532170775703,\n",
              " 0.07381840048105831,\n",
              " 0.0809380637402285,\n",
              " 0.08473842453397473,\n",
              " 0.0827901383042694,\n",
              " 0.07261575466025255,\n",
              " 0.07131689717378231,\n",
              " 0.07949488875526156,\n",
              " 0.07745039085989175,\n",
              " 0.07155742633794349,\n",
              " 0.07276007215874924,\n",
              " 0.07425135297654839,\n",
              " 0.07468430547203847,\n",
              " 0.0711004209260373,\n",
              " 0.07651232711966327,\n",
              " 0.07855682501503308]"
            ]
          },
          "metadata": {
            "tags": []
          },
          "execution_count": 48
        }
      ]
    },
    {
      "cell_type": "code",
      "metadata": {
        "colab": {
          "base_uri": "https://localhost:8080/"
        },
        "id": "1RC_D5vb6dj0",
        "outputId": "4b526f4a-ebea-49b7-8909-0b67e54c9e44"
      },
      "source": [
        "# demonstrate prediction for next 10 days\n",
        "from numpy import array\n",
        "\n",
        "lst_output=[]\n",
        "n_steps=100\n",
        "i=0\n",
        "while(i<30):\n",
        "    \n",
        "    if(len(temp_input)>100):\n",
        "        #print(temp_input)\n",
        "        x_input=np.array(temp_input[1:])\n",
        "        print(\"{} day input {}\".format(i,x_input))\n",
        "        x_input=x_input.reshape(1,-1)\n",
        "        x_input = x_input.reshape((1, n_steps, 1))\n",
        "        #print(x_input)\n",
        "        yhat = model.predict(x_input, verbose=0)\n",
        "        print(\"{} day output {}\".format(i,yhat))\n",
        "        temp_input.extend(yhat[0].tolist())\n",
        "        temp_input=temp_input[1:]\n",
        "        #print(temp_input)\n",
        "        lst_output.extend(yhat.tolist())\n",
        "        i=i+1\n",
        "    else:\n",
        "        x_input = x_input.reshape((1, n_steps,1))\n",
        "        yhat = model.predict(x_input, verbose=0)\n",
        "        print(yhat[0])\n",
        "        temp_input.extend(yhat[0].tolist())\n",
        "        print(len(temp_input))\n",
        "        lst_output.extend(yhat.tolist())\n",
        "        i=i+1\n",
        "    \n",
        "\n",
        "print(lst_output)"
      ],
      "execution_count": 49,
      "outputs": [
        {
          "output_type": "stream",
          "text": [
            "[0.0756097]\n",
            "101\n",
            "1 day input [0.06248948 0.06164762 0.07011425 0.06944077 0.06956103 0.07206254\n",
            " 0.06987372 0.06660253 0.06806975 0.06494287 0.05654841 0.05972339\n",
            " 0.06179194 0.06313891 0.06905592 0.07788334 0.07874925 0.07841251\n",
            " 0.07675286 0.08036079 0.08187613 0.07562237 0.0791341  0.0771377\n",
            " 0.07562237 0.09029465 0.09012628 0.09226699 0.08734817 0.0911365\n",
            " 0.09991581 0.09770295 0.10013229 0.11148527 0.10710764 0.10434155\n",
            " 0.1018641  0.09397474 0.09782321 0.08721587 0.09760673 0.10032471\n",
            " 0.09294047 0.09250752 0.09753458 0.0927721  0.08851473 0.09017438\n",
            " 0.10027661 0.11191822 0.11720986 0.12647023 0.1270475  0.12440168\n",
            " 0.11244738 0.10010824 0.10535177 0.10739627 0.10487072 0.11316897\n",
            " 0.11165364 0.11201443 0.10984967 0.10835839 0.10773301 0.10831028\n",
            " 0.10306675 0.09741431 0.09469633 0.09508118 0.0857727  0.08543596\n",
            " 0.08420926 0.07372219 0.07437162 0.09007817 0.08365604 0.07629585\n",
            " 0.07165364 0.07475646 0.06258569 0.07395069 0.07129284 0.07605532\n",
            " 0.0738184  0.08093806 0.08473842 0.08279014 0.07261575 0.0713169\n",
            " 0.07949489 0.07745039 0.07155743 0.07276007 0.07425135 0.07468431\n",
            " 0.07110042 0.07651233 0.07855683 0.0756097 ]\n",
            "1 day output [[0.07615505]]\n",
            "2 day input [0.06164762 0.07011425 0.06944077 0.06956103 0.07206254 0.06987372\n",
            " 0.06660253 0.06806975 0.06494287 0.05654841 0.05972339 0.06179194\n",
            " 0.06313891 0.06905592 0.07788334 0.07874925 0.07841251 0.07675286\n",
            " 0.08036079 0.08187613 0.07562237 0.0791341  0.0771377  0.07562237\n",
            " 0.09029465 0.09012628 0.09226699 0.08734817 0.0911365  0.09991581\n",
            " 0.09770295 0.10013229 0.11148527 0.10710764 0.10434155 0.1018641\n",
            " 0.09397474 0.09782321 0.08721587 0.09760673 0.10032471 0.09294047\n",
            " 0.09250752 0.09753458 0.0927721  0.08851473 0.09017438 0.10027661\n",
            " 0.11191822 0.11720986 0.12647023 0.1270475  0.12440168 0.11244738\n",
            " 0.10010824 0.10535177 0.10739627 0.10487072 0.11316897 0.11165364\n",
            " 0.11201443 0.10984967 0.10835839 0.10773301 0.10831028 0.10306675\n",
            " 0.09741431 0.09469633 0.09508118 0.0857727  0.08543596 0.08420926\n",
            " 0.07372219 0.07437162 0.09007817 0.08365604 0.07629585 0.07165364\n",
            " 0.07475646 0.06258569 0.07395069 0.07129284 0.07605532 0.0738184\n",
            " 0.08093806 0.08473842 0.08279014 0.07261575 0.0713169  0.07949489\n",
            " 0.07745039 0.07155743 0.07276007 0.07425135 0.07468431 0.07110042\n",
            " 0.07651233 0.07855683 0.0756097  0.07615505]\n",
            "2 day output [[0.07675642]]\n",
            "3 day input [0.07011425 0.06944077 0.06956103 0.07206254 0.06987372 0.06660253\n",
            " 0.06806975 0.06494287 0.05654841 0.05972339 0.06179194 0.06313891\n",
            " 0.06905592 0.07788334 0.07874925 0.07841251 0.07675286 0.08036079\n",
            " 0.08187613 0.07562237 0.0791341  0.0771377  0.07562237 0.09029465\n",
            " 0.09012628 0.09226699 0.08734817 0.0911365  0.09991581 0.09770295\n",
            " 0.10013229 0.11148527 0.10710764 0.10434155 0.1018641  0.09397474\n",
            " 0.09782321 0.08721587 0.09760673 0.10032471 0.09294047 0.09250752\n",
            " 0.09753458 0.0927721  0.08851473 0.09017438 0.10027661 0.11191822\n",
            " 0.11720986 0.12647023 0.1270475  0.12440168 0.11244738 0.10010824\n",
            " 0.10535177 0.10739627 0.10487072 0.11316897 0.11165364 0.11201443\n",
            " 0.10984967 0.10835839 0.10773301 0.10831028 0.10306675 0.09741431\n",
            " 0.09469633 0.09508118 0.0857727  0.08543596 0.08420926 0.07372219\n",
            " 0.07437162 0.09007817 0.08365604 0.07629585 0.07165364 0.07475646\n",
            " 0.06258569 0.07395069 0.07129284 0.07605532 0.0738184  0.08093806\n",
            " 0.08473842 0.08279014 0.07261575 0.0713169  0.07949489 0.07745039\n",
            " 0.07155743 0.07276007 0.07425135 0.07468431 0.07110042 0.07651233\n",
            " 0.07855683 0.0756097  0.07615505 0.07675642]\n",
            "3 day output [[0.07733172]]\n",
            "4 day input [0.06944077 0.06956103 0.07206254 0.06987372 0.06660253 0.06806975\n",
            " 0.06494287 0.05654841 0.05972339 0.06179194 0.06313891 0.06905592\n",
            " 0.07788334 0.07874925 0.07841251 0.07675286 0.08036079 0.08187613\n",
            " 0.07562237 0.0791341  0.0771377  0.07562237 0.09029465 0.09012628\n",
            " 0.09226699 0.08734817 0.0911365  0.09991581 0.09770295 0.10013229\n",
            " 0.11148527 0.10710764 0.10434155 0.1018641  0.09397474 0.09782321\n",
            " 0.08721587 0.09760673 0.10032471 0.09294047 0.09250752 0.09753458\n",
            " 0.0927721  0.08851473 0.09017438 0.10027661 0.11191822 0.11720986\n",
            " 0.12647023 0.1270475  0.12440168 0.11244738 0.10010824 0.10535177\n",
            " 0.10739627 0.10487072 0.11316897 0.11165364 0.11201443 0.10984967\n",
            " 0.10835839 0.10773301 0.10831028 0.10306675 0.09741431 0.09469633\n",
            " 0.09508118 0.0857727  0.08543596 0.08420926 0.07372219 0.07437162\n",
            " 0.09007817 0.08365604 0.07629585 0.07165364 0.07475646 0.06258569\n",
            " 0.07395069 0.07129284 0.07605532 0.0738184  0.08093806 0.08473842\n",
            " 0.08279014 0.07261575 0.0713169  0.07949489 0.07745039 0.07155743\n",
            " 0.07276007 0.07425135 0.07468431 0.07110042 0.07651233 0.07855683\n",
            " 0.0756097  0.07615505 0.07675642 0.07733172]\n",
            "4 day output [[0.0778558]]\n",
            "5 day input [0.06956103 0.07206254 0.06987372 0.06660253 0.06806975 0.06494287\n",
            " 0.05654841 0.05972339 0.06179194 0.06313891 0.06905592 0.07788334\n",
            " 0.07874925 0.07841251 0.07675286 0.08036079 0.08187613 0.07562237\n",
            " 0.0791341  0.0771377  0.07562237 0.09029465 0.09012628 0.09226699\n",
            " 0.08734817 0.0911365  0.09991581 0.09770295 0.10013229 0.11148527\n",
            " 0.10710764 0.10434155 0.1018641  0.09397474 0.09782321 0.08721587\n",
            " 0.09760673 0.10032471 0.09294047 0.09250752 0.09753458 0.0927721\n",
            " 0.08851473 0.09017438 0.10027661 0.11191822 0.11720986 0.12647023\n",
            " 0.1270475  0.12440168 0.11244738 0.10010824 0.10535177 0.10739627\n",
            " 0.10487072 0.11316897 0.11165364 0.11201443 0.10984967 0.10835839\n",
            " 0.10773301 0.10831028 0.10306675 0.09741431 0.09469633 0.09508118\n",
            " 0.0857727  0.08543596 0.08420926 0.07372219 0.07437162 0.09007817\n",
            " 0.08365604 0.07629585 0.07165364 0.07475646 0.06258569 0.07395069\n",
            " 0.07129284 0.07605532 0.0738184  0.08093806 0.08473842 0.08279014\n",
            " 0.07261575 0.0713169  0.07949489 0.07745039 0.07155743 0.07276007\n",
            " 0.07425135 0.07468431 0.07110042 0.07651233 0.07855683 0.0756097\n",
            " 0.07615505 0.07675642 0.07733172 0.0778558 ]\n",
            "5 day output [[0.0783283]]\n",
            "6 day input [0.07206254 0.06987372 0.06660253 0.06806975 0.06494287 0.05654841\n",
            " 0.05972339 0.06179194 0.06313891 0.06905592 0.07788334 0.07874925\n",
            " 0.07841251 0.07675286 0.08036079 0.08187613 0.07562237 0.0791341\n",
            " 0.0771377  0.07562237 0.09029465 0.09012628 0.09226699 0.08734817\n",
            " 0.0911365  0.09991581 0.09770295 0.10013229 0.11148527 0.10710764\n",
            " 0.10434155 0.1018641  0.09397474 0.09782321 0.08721587 0.09760673\n",
            " 0.10032471 0.09294047 0.09250752 0.09753458 0.0927721  0.08851473\n",
            " 0.09017438 0.10027661 0.11191822 0.11720986 0.12647023 0.1270475\n",
            " 0.12440168 0.11244738 0.10010824 0.10535177 0.10739627 0.10487072\n",
            " 0.11316897 0.11165364 0.11201443 0.10984967 0.10835839 0.10773301\n",
            " 0.10831028 0.10306675 0.09741431 0.09469633 0.09508118 0.0857727\n",
            " 0.08543596 0.08420926 0.07372219 0.07437162 0.09007817 0.08365604\n",
            " 0.07629585 0.07165364 0.07475646 0.06258569 0.07395069 0.07129284\n",
            " 0.07605532 0.0738184  0.08093806 0.08473842 0.08279014 0.07261575\n",
            " 0.0713169  0.07949489 0.07745039 0.07155743 0.07276007 0.07425135\n",
            " 0.07468431 0.07110042 0.07651233 0.07855683 0.0756097  0.07615505\n",
            " 0.07675642 0.07733172 0.0778558  0.0783283 ]\n",
            "6 day output [[0.07875636]]\n",
            "7 day input [0.06987372 0.06660253 0.06806975 0.06494287 0.05654841 0.05972339\n",
            " 0.06179194 0.06313891 0.06905592 0.07788334 0.07874925 0.07841251\n",
            " 0.07675286 0.08036079 0.08187613 0.07562237 0.0791341  0.0771377\n",
            " 0.07562237 0.09029465 0.09012628 0.09226699 0.08734817 0.0911365\n",
            " 0.09991581 0.09770295 0.10013229 0.11148527 0.10710764 0.10434155\n",
            " 0.1018641  0.09397474 0.09782321 0.08721587 0.09760673 0.10032471\n",
            " 0.09294047 0.09250752 0.09753458 0.0927721  0.08851473 0.09017438\n",
            " 0.10027661 0.11191822 0.11720986 0.12647023 0.1270475  0.12440168\n",
            " 0.11244738 0.10010824 0.10535177 0.10739627 0.10487072 0.11316897\n",
            " 0.11165364 0.11201443 0.10984967 0.10835839 0.10773301 0.10831028\n",
            " 0.10306675 0.09741431 0.09469633 0.09508118 0.0857727  0.08543596\n",
            " 0.08420926 0.07372219 0.07437162 0.09007817 0.08365604 0.07629585\n",
            " 0.07165364 0.07475646 0.06258569 0.07395069 0.07129284 0.07605532\n",
            " 0.0738184  0.08093806 0.08473842 0.08279014 0.07261575 0.0713169\n",
            " 0.07949489 0.07745039 0.07155743 0.07276007 0.07425135 0.07468431\n",
            " 0.07110042 0.07651233 0.07855683 0.0756097  0.07615505 0.07675642\n",
            " 0.07733172 0.0778558  0.0783283  0.07875636]\n",
            "7 day output [[0.07914729]]\n",
            "8 day input [0.06660253 0.06806975 0.06494287 0.05654841 0.05972339 0.06179194\n",
            " 0.06313891 0.06905592 0.07788334 0.07874925 0.07841251 0.07675286\n",
            " 0.08036079 0.08187613 0.07562237 0.0791341  0.0771377  0.07562237\n",
            " 0.09029465 0.09012628 0.09226699 0.08734817 0.0911365  0.09991581\n",
            " 0.09770295 0.10013229 0.11148527 0.10710764 0.10434155 0.1018641\n",
            " 0.09397474 0.09782321 0.08721587 0.09760673 0.10032471 0.09294047\n",
            " 0.09250752 0.09753458 0.0927721  0.08851473 0.09017438 0.10027661\n",
            " 0.11191822 0.11720986 0.12647023 0.1270475  0.12440168 0.11244738\n",
            " 0.10010824 0.10535177 0.10739627 0.10487072 0.11316897 0.11165364\n",
            " 0.11201443 0.10984967 0.10835839 0.10773301 0.10831028 0.10306675\n",
            " 0.09741431 0.09469633 0.09508118 0.0857727  0.08543596 0.08420926\n",
            " 0.07372219 0.07437162 0.09007817 0.08365604 0.07629585 0.07165364\n",
            " 0.07475646 0.06258569 0.07395069 0.07129284 0.07605532 0.0738184\n",
            " 0.08093806 0.08473842 0.08279014 0.07261575 0.0713169  0.07949489\n",
            " 0.07745039 0.07155743 0.07276007 0.07425135 0.07468431 0.07110042\n",
            " 0.07651233 0.07855683 0.0756097  0.07615505 0.07675642 0.07733172\n",
            " 0.0778558  0.0783283  0.07875636 0.07914729]\n",
            "8 day output [[0.07950652]]\n",
            "9 day input [0.06806975 0.06494287 0.05654841 0.05972339 0.06179194 0.06313891\n",
            " 0.06905592 0.07788334 0.07874925 0.07841251 0.07675286 0.08036079\n",
            " 0.08187613 0.07562237 0.0791341  0.0771377  0.07562237 0.09029465\n",
            " 0.09012628 0.09226699 0.08734817 0.0911365  0.09991581 0.09770295\n",
            " 0.10013229 0.11148527 0.10710764 0.10434155 0.1018641  0.09397474\n",
            " 0.09782321 0.08721587 0.09760673 0.10032471 0.09294047 0.09250752\n",
            " 0.09753458 0.0927721  0.08851473 0.09017438 0.10027661 0.11191822\n",
            " 0.11720986 0.12647023 0.1270475  0.12440168 0.11244738 0.10010824\n",
            " 0.10535177 0.10739627 0.10487072 0.11316897 0.11165364 0.11201443\n",
            " 0.10984967 0.10835839 0.10773301 0.10831028 0.10306675 0.09741431\n",
            " 0.09469633 0.09508118 0.0857727  0.08543596 0.08420926 0.07372219\n",
            " 0.07437162 0.09007817 0.08365604 0.07629585 0.07165364 0.07475646\n",
            " 0.06258569 0.07395069 0.07129284 0.07605532 0.0738184  0.08093806\n",
            " 0.08473842 0.08279014 0.07261575 0.0713169  0.07949489 0.07745039\n",
            " 0.07155743 0.07276007 0.07425135 0.07468431 0.07110042 0.07651233\n",
            " 0.07855683 0.0756097  0.07615505 0.07675642 0.07733172 0.0778558\n",
            " 0.0783283  0.07875636 0.07914729 0.07950652]\n",
            "9 day output [[0.07983796]]\n",
            "10 day input [0.06494287 0.05654841 0.05972339 0.06179194 0.06313891 0.06905592\n",
            " 0.07788334 0.07874925 0.07841251 0.07675286 0.08036079 0.08187613\n",
            " 0.07562237 0.0791341  0.0771377  0.07562237 0.09029465 0.09012628\n",
            " 0.09226699 0.08734817 0.0911365  0.09991581 0.09770295 0.10013229\n",
            " 0.11148527 0.10710764 0.10434155 0.1018641  0.09397474 0.09782321\n",
            " 0.08721587 0.09760673 0.10032471 0.09294047 0.09250752 0.09753458\n",
            " 0.0927721  0.08851473 0.09017438 0.10027661 0.11191822 0.11720986\n",
            " 0.12647023 0.1270475  0.12440168 0.11244738 0.10010824 0.10535177\n",
            " 0.10739627 0.10487072 0.11316897 0.11165364 0.11201443 0.10984967\n",
            " 0.10835839 0.10773301 0.10831028 0.10306675 0.09741431 0.09469633\n",
            " 0.09508118 0.0857727  0.08543596 0.08420926 0.07372219 0.07437162\n",
            " 0.09007817 0.08365604 0.07629585 0.07165364 0.07475646 0.06258569\n",
            " 0.07395069 0.07129284 0.07605532 0.0738184  0.08093806 0.08473842\n",
            " 0.08279014 0.07261575 0.0713169  0.07949489 0.07745039 0.07155743\n",
            " 0.07276007 0.07425135 0.07468431 0.07110042 0.07651233 0.07855683\n",
            " 0.0756097  0.07615505 0.07675642 0.07733172 0.0778558  0.0783283\n",
            " 0.07875636 0.07914729 0.07950652 0.07983796]\n",
            "10 day output [[0.08014467]]\n",
            "11 day input [0.05654841 0.05972339 0.06179194 0.06313891 0.06905592 0.07788334\n",
            " 0.07874925 0.07841251 0.07675286 0.08036079 0.08187613 0.07562237\n",
            " 0.0791341  0.0771377  0.07562237 0.09029465 0.09012628 0.09226699\n",
            " 0.08734817 0.0911365  0.09991581 0.09770295 0.10013229 0.11148527\n",
            " 0.10710764 0.10434155 0.1018641  0.09397474 0.09782321 0.08721587\n",
            " 0.09760673 0.10032471 0.09294047 0.09250752 0.09753458 0.0927721\n",
            " 0.08851473 0.09017438 0.10027661 0.11191822 0.11720986 0.12647023\n",
            " 0.1270475  0.12440168 0.11244738 0.10010824 0.10535177 0.10739627\n",
            " 0.10487072 0.11316897 0.11165364 0.11201443 0.10984967 0.10835839\n",
            " 0.10773301 0.10831028 0.10306675 0.09741431 0.09469633 0.09508118\n",
            " 0.0857727  0.08543596 0.08420926 0.07372219 0.07437162 0.09007817\n",
            " 0.08365604 0.07629585 0.07165364 0.07475646 0.06258569 0.07395069\n",
            " 0.07129284 0.07605532 0.0738184  0.08093806 0.08473842 0.08279014\n",
            " 0.07261575 0.0713169  0.07949489 0.07745039 0.07155743 0.07276007\n",
            " 0.07425135 0.07468431 0.07110042 0.07651233 0.07855683 0.0756097\n",
            " 0.07615505 0.07675642 0.07733172 0.0778558  0.0783283  0.07875636\n",
            " 0.07914729 0.07950652 0.07983796 0.08014467]\n",
            "11 day output [[0.08042981]]\n",
            "12 day input [0.05972339 0.06179194 0.06313891 0.06905592 0.07788334 0.07874925\n",
            " 0.07841251 0.07675286 0.08036079 0.08187613 0.07562237 0.0791341\n",
            " 0.0771377  0.07562237 0.09029465 0.09012628 0.09226699 0.08734817\n",
            " 0.0911365  0.09991581 0.09770295 0.10013229 0.11148527 0.10710764\n",
            " 0.10434155 0.1018641  0.09397474 0.09782321 0.08721587 0.09760673\n",
            " 0.10032471 0.09294047 0.09250752 0.09753458 0.0927721  0.08851473\n",
            " 0.09017438 0.10027661 0.11191822 0.11720986 0.12647023 0.1270475\n",
            " 0.12440168 0.11244738 0.10010824 0.10535177 0.10739627 0.10487072\n",
            " 0.11316897 0.11165364 0.11201443 0.10984967 0.10835839 0.10773301\n",
            " 0.10831028 0.10306675 0.09741431 0.09469633 0.09508118 0.0857727\n",
            " 0.08543596 0.08420926 0.07372219 0.07437162 0.09007817 0.08365604\n",
            " 0.07629585 0.07165364 0.07475646 0.06258569 0.07395069 0.07129284\n",
            " 0.07605532 0.0738184  0.08093806 0.08473842 0.08279014 0.07261575\n",
            " 0.0713169  0.07949489 0.07745039 0.07155743 0.07276007 0.07425135\n",
            " 0.07468431 0.07110042 0.07651233 0.07855683 0.0756097  0.07615505\n",
            " 0.07675642 0.07733172 0.0778558  0.0783283  0.07875636 0.07914729\n",
            " 0.07950652 0.07983796 0.08014467 0.08042981]\n",
            "12 day output [[0.08069654]]\n",
            "13 day input [0.06179194 0.06313891 0.06905592 0.07788334 0.07874925 0.07841251\n",
            " 0.07675286 0.08036079 0.08187613 0.07562237 0.0791341  0.0771377\n",
            " 0.07562237 0.09029465 0.09012628 0.09226699 0.08734817 0.0911365\n",
            " 0.09991581 0.09770295 0.10013229 0.11148527 0.10710764 0.10434155\n",
            " 0.1018641  0.09397474 0.09782321 0.08721587 0.09760673 0.10032471\n",
            " 0.09294047 0.09250752 0.09753458 0.0927721  0.08851473 0.09017438\n",
            " 0.10027661 0.11191822 0.11720986 0.12647023 0.1270475  0.12440168\n",
            " 0.11244738 0.10010824 0.10535177 0.10739627 0.10487072 0.11316897\n",
            " 0.11165364 0.11201443 0.10984967 0.10835839 0.10773301 0.10831028\n",
            " 0.10306675 0.09741431 0.09469633 0.09508118 0.0857727  0.08543596\n",
            " 0.08420926 0.07372219 0.07437162 0.09007817 0.08365604 0.07629585\n",
            " 0.07165364 0.07475646 0.06258569 0.07395069 0.07129284 0.07605532\n",
            " 0.0738184  0.08093806 0.08473842 0.08279014 0.07261575 0.0713169\n",
            " 0.07949489 0.07745039 0.07155743 0.07276007 0.07425135 0.07468431\n",
            " 0.07110042 0.07651233 0.07855683 0.0756097  0.07615505 0.07675642\n",
            " 0.07733172 0.0778558  0.0783283  0.07875636 0.07914729 0.07950652\n",
            " 0.07983796 0.08014467 0.08042981 0.08069654]\n",
            "13 day output [[0.08094835]]\n",
            "14 day input [0.06313891 0.06905592 0.07788334 0.07874925 0.07841251 0.07675286\n",
            " 0.08036079 0.08187613 0.07562237 0.0791341  0.0771377  0.07562237\n",
            " 0.09029465 0.09012628 0.09226699 0.08734817 0.0911365  0.09991581\n",
            " 0.09770295 0.10013229 0.11148527 0.10710764 0.10434155 0.1018641\n",
            " 0.09397474 0.09782321 0.08721587 0.09760673 0.10032471 0.09294047\n",
            " 0.09250752 0.09753458 0.0927721  0.08851473 0.09017438 0.10027661\n",
            " 0.11191822 0.11720986 0.12647023 0.1270475  0.12440168 0.11244738\n",
            " 0.10010824 0.10535177 0.10739627 0.10487072 0.11316897 0.11165364\n",
            " 0.11201443 0.10984967 0.10835839 0.10773301 0.10831028 0.10306675\n",
            " 0.09741431 0.09469633 0.09508118 0.0857727  0.08543596 0.08420926\n",
            " 0.07372219 0.07437162 0.09007817 0.08365604 0.07629585 0.07165364\n",
            " 0.07475646 0.06258569 0.07395069 0.07129284 0.07605532 0.0738184\n",
            " 0.08093806 0.08473842 0.08279014 0.07261575 0.0713169  0.07949489\n",
            " 0.07745039 0.07155743 0.07276007 0.07425135 0.07468431 0.07110042\n",
            " 0.07651233 0.07855683 0.0756097  0.07615505 0.07675642 0.07733172\n",
            " 0.0778558  0.0783283  0.07875636 0.07914729 0.07950652 0.07983796\n",
            " 0.08014467 0.08042981 0.08069654 0.08094835]\n",
            "14 day output [[0.08118878]]\n",
            "15 day input [0.06905592 0.07788334 0.07874925 0.07841251 0.07675286 0.08036079\n",
            " 0.08187613 0.07562237 0.0791341  0.0771377  0.07562237 0.09029465\n",
            " 0.09012628 0.09226699 0.08734817 0.0911365  0.09991581 0.09770295\n",
            " 0.10013229 0.11148527 0.10710764 0.10434155 0.1018641  0.09397474\n",
            " 0.09782321 0.08721587 0.09760673 0.10032471 0.09294047 0.09250752\n",
            " 0.09753458 0.0927721  0.08851473 0.09017438 0.10027661 0.11191822\n",
            " 0.11720986 0.12647023 0.1270475  0.12440168 0.11244738 0.10010824\n",
            " 0.10535177 0.10739627 0.10487072 0.11316897 0.11165364 0.11201443\n",
            " 0.10984967 0.10835839 0.10773301 0.10831028 0.10306675 0.09741431\n",
            " 0.09469633 0.09508118 0.0857727  0.08543596 0.08420926 0.07372219\n",
            " 0.07437162 0.09007817 0.08365604 0.07629585 0.07165364 0.07475646\n",
            " 0.06258569 0.07395069 0.07129284 0.07605532 0.0738184  0.08093806\n",
            " 0.08473842 0.08279014 0.07261575 0.0713169  0.07949489 0.07745039\n",
            " 0.07155743 0.07276007 0.07425135 0.07468431 0.07110042 0.07651233\n",
            " 0.07855683 0.0756097  0.07615505 0.07675642 0.07733172 0.0778558\n",
            " 0.0783283  0.07875636 0.07914729 0.07950652 0.07983796 0.08014467\n",
            " 0.08042981 0.08069654 0.08094835 0.08118878]\n",
            "15 day output [[0.0814213]]\n",
            "16 day input [0.07788334 0.07874925 0.07841251 0.07675286 0.08036079 0.08187613\n",
            " 0.07562237 0.0791341  0.0771377  0.07562237 0.09029465 0.09012628\n",
            " 0.09226699 0.08734817 0.0911365  0.09991581 0.09770295 0.10013229\n",
            " 0.11148527 0.10710764 0.10434155 0.1018641  0.09397474 0.09782321\n",
            " 0.08721587 0.09760673 0.10032471 0.09294047 0.09250752 0.09753458\n",
            " 0.0927721  0.08851473 0.09017438 0.10027661 0.11191822 0.11720986\n",
            " 0.12647023 0.1270475  0.12440168 0.11244738 0.10010824 0.10535177\n",
            " 0.10739627 0.10487072 0.11316897 0.11165364 0.11201443 0.10984967\n",
            " 0.10835839 0.10773301 0.10831028 0.10306675 0.09741431 0.09469633\n",
            " 0.09508118 0.0857727  0.08543596 0.08420926 0.07372219 0.07437162\n",
            " 0.09007817 0.08365604 0.07629585 0.07165364 0.07475646 0.06258569\n",
            " 0.07395069 0.07129284 0.07605532 0.0738184  0.08093806 0.08473842\n",
            " 0.08279014 0.07261575 0.0713169  0.07949489 0.07745039 0.07155743\n",
            " 0.07276007 0.07425135 0.07468431 0.07110042 0.07651233 0.07855683\n",
            " 0.0756097  0.07615505 0.07675642 0.07733172 0.0778558  0.0783283\n",
            " 0.07875636 0.07914729 0.07950652 0.07983796 0.08014467 0.08042981\n",
            " 0.08069654 0.08094835 0.08118878 0.0814213 ]\n",
            "16 day output [[0.08164902]]\n",
            "17 day input [0.07874925 0.07841251 0.07675286 0.08036079 0.08187613 0.07562237\n",
            " 0.0791341  0.0771377  0.07562237 0.09029465 0.09012628 0.09226699\n",
            " 0.08734817 0.0911365  0.09991581 0.09770295 0.10013229 0.11148527\n",
            " 0.10710764 0.10434155 0.1018641  0.09397474 0.09782321 0.08721587\n",
            " 0.09760673 0.10032471 0.09294047 0.09250752 0.09753458 0.0927721\n",
            " 0.08851473 0.09017438 0.10027661 0.11191822 0.11720986 0.12647023\n",
            " 0.1270475  0.12440168 0.11244738 0.10010824 0.10535177 0.10739627\n",
            " 0.10487072 0.11316897 0.11165364 0.11201443 0.10984967 0.10835839\n",
            " 0.10773301 0.10831028 0.10306675 0.09741431 0.09469633 0.09508118\n",
            " 0.0857727  0.08543596 0.08420926 0.07372219 0.07437162 0.09007817\n",
            " 0.08365604 0.07629585 0.07165364 0.07475646 0.06258569 0.07395069\n",
            " 0.07129284 0.07605532 0.0738184  0.08093806 0.08473842 0.08279014\n",
            " 0.07261575 0.0713169  0.07949489 0.07745039 0.07155743 0.07276007\n",
            " 0.07425135 0.07468431 0.07110042 0.07651233 0.07855683 0.0756097\n",
            " 0.07615505 0.07675642 0.07733172 0.0778558  0.0783283  0.07875636\n",
            " 0.07914729 0.07950652 0.07983796 0.08014467 0.08042981 0.08069654\n",
            " 0.08094835 0.08118878 0.0814213  0.08164902]\n",
            "17 day output [[0.08187473]]\n",
            "18 day input [0.07841251 0.07675286 0.08036079 0.08187613 0.07562237 0.0791341\n",
            " 0.0771377  0.07562237 0.09029465 0.09012628 0.09226699 0.08734817\n",
            " 0.0911365  0.09991581 0.09770295 0.10013229 0.11148527 0.10710764\n",
            " 0.10434155 0.1018641  0.09397474 0.09782321 0.08721587 0.09760673\n",
            " 0.10032471 0.09294047 0.09250752 0.09753458 0.0927721  0.08851473\n",
            " 0.09017438 0.10027661 0.11191822 0.11720986 0.12647023 0.1270475\n",
            " 0.12440168 0.11244738 0.10010824 0.10535177 0.10739627 0.10487072\n",
            " 0.11316897 0.11165364 0.11201443 0.10984967 0.10835839 0.10773301\n",
            " 0.10831028 0.10306675 0.09741431 0.09469633 0.09508118 0.0857727\n",
            " 0.08543596 0.08420926 0.07372219 0.07437162 0.09007817 0.08365604\n",
            " 0.07629585 0.07165364 0.07475646 0.06258569 0.07395069 0.07129284\n",
            " 0.07605532 0.0738184  0.08093806 0.08473842 0.08279014 0.07261575\n",
            " 0.0713169  0.07949489 0.07745039 0.07155743 0.07276007 0.07425135\n",
            " 0.07468431 0.07110042 0.07651233 0.07855683 0.0756097  0.07615505\n",
            " 0.07675642 0.07733172 0.0778558  0.0783283  0.07875636 0.07914729\n",
            " 0.07950652 0.07983796 0.08014467 0.08042981 0.08069654 0.08094835\n",
            " 0.08118878 0.0814213  0.08164902 0.08187473]\n",
            "18 day output [[0.08210059]]\n",
            "19 day input [0.07675286 0.08036079 0.08187613 0.07562237 0.0791341  0.0771377\n",
            " 0.07562237 0.09029465 0.09012628 0.09226699 0.08734817 0.0911365\n",
            " 0.09991581 0.09770295 0.10013229 0.11148527 0.10710764 0.10434155\n",
            " 0.1018641  0.09397474 0.09782321 0.08721587 0.09760673 0.10032471\n",
            " 0.09294047 0.09250752 0.09753458 0.0927721  0.08851473 0.09017438\n",
            " 0.10027661 0.11191822 0.11720986 0.12647023 0.1270475  0.12440168\n",
            " 0.11244738 0.10010824 0.10535177 0.10739627 0.10487072 0.11316897\n",
            " 0.11165364 0.11201443 0.10984967 0.10835839 0.10773301 0.10831028\n",
            " 0.10306675 0.09741431 0.09469633 0.09508118 0.0857727  0.08543596\n",
            " 0.08420926 0.07372219 0.07437162 0.09007817 0.08365604 0.07629585\n",
            " 0.07165364 0.07475646 0.06258569 0.07395069 0.07129284 0.07605532\n",
            " 0.0738184  0.08093806 0.08473842 0.08279014 0.07261575 0.0713169\n",
            " 0.07949489 0.07745039 0.07155743 0.07276007 0.07425135 0.07468431\n",
            " 0.07110042 0.07651233 0.07855683 0.0756097  0.07615505 0.07675642\n",
            " 0.07733172 0.0778558  0.0783283  0.07875636 0.07914729 0.07950652\n",
            " 0.07983796 0.08014467 0.08042981 0.08069654 0.08094835 0.08118878\n",
            " 0.0814213  0.08164902 0.08187473 0.08210059]\n",
            "19 day output [[0.08232838]]\n",
            "20 day input [0.08036079 0.08187613 0.07562237 0.0791341  0.0771377  0.07562237\n",
            " 0.09029465 0.09012628 0.09226699 0.08734817 0.0911365  0.09991581\n",
            " 0.09770295 0.10013229 0.11148527 0.10710764 0.10434155 0.1018641\n",
            " 0.09397474 0.09782321 0.08721587 0.09760673 0.10032471 0.09294047\n",
            " 0.09250752 0.09753458 0.0927721  0.08851473 0.09017438 0.10027661\n",
            " 0.11191822 0.11720986 0.12647023 0.1270475  0.12440168 0.11244738\n",
            " 0.10010824 0.10535177 0.10739627 0.10487072 0.11316897 0.11165364\n",
            " 0.11201443 0.10984967 0.10835839 0.10773301 0.10831028 0.10306675\n",
            " 0.09741431 0.09469633 0.09508118 0.0857727  0.08543596 0.08420926\n",
            " 0.07372219 0.07437162 0.09007817 0.08365604 0.07629585 0.07165364\n",
            " 0.07475646 0.06258569 0.07395069 0.07129284 0.07605532 0.0738184\n",
            " 0.08093806 0.08473842 0.08279014 0.07261575 0.0713169  0.07949489\n",
            " 0.07745039 0.07155743 0.07276007 0.07425135 0.07468431 0.07110042\n",
            " 0.07651233 0.07855683 0.0756097  0.07615505 0.07675642 0.07733172\n",
            " 0.0778558  0.0783283  0.07875636 0.07914729 0.07950652 0.07983796\n",
            " 0.08014467 0.08042981 0.08069654 0.08094835 0.08118878 0.0814213\n",
            " 0.08164902 0.08187473 0.08210059 0.08232838]\n",
            "20 day output [[0.08255929]]\n",
            "21 day input [0.08187613 0.07562237 0.0791341  0.0771377  0.07562237 0.09029465\n",
            " 0.09012628 0.09226699 0.08734817 0.0911365  0.09991581 0.09770295\n",
            " 0.10013229 0.11148527 0.10710764 0.10434155 0.1018641  0.09397474\n",
            " 0.09782321 0.08721587 0.09760673 0.10032471 0.09294047 0.09250752\n",
            " 0.09753458 0.0927721  0.08851473 0.09017438 0.10027661 0.11191822\n",
            " 0.11720986 0.12647023 0.1270475  0.12440168 0.11244738 0.10010824\n",
            " 0.10535177 0.10739627 0.10487072 0.11316897 0.11165364 0.11201443\n",
            " 0.10984967 0.10835839 0.10773301 0.10831028 0.10306675 0.09741431\n",
            " 0.09469633 0.09508118 0.0857727  0.08543596 0.08420926 0.07372219\n",
            " 0.07437162 0.09007817 0.08365604 0.07629585 0.07165364 0.07475646\n",
            " 0.06258569 0.07395069 0.07129284 0.07605532 0.0738184  0.08093806\n",
            " 0.08473842 0.08279014 0.07261575 0.0713169  0.07949489 0.07745039\n",
            " 0.07155743 0.07276007 0.07425135 0.07468431 0.07110042 0.07651233\n",
            " 0.07855683 0.0756097  0.07615505 0.07675642 0.07733172 0.0778558\n",
            " 0.0783283  0.07875636 0.07914729 0.07950652 0.07983796 0.08014467\n",
            " 0.08042981 0.08069654 0.08094835 0.08118878 0.0814213  0.08164902\n",
            " 0.08187473 0.08210059 0.08232838 0.08255929]\n",
            "21 day output [[0.082794]]\n",
            "22 day input [0.07562237 0.0791341  0.0771377  0.07562237 0.09029465 0.09012628\n",
            " 0.09226699 0.08734817 0.0911365  0.09991581 0.09770295 0.10013229\n",
            " 0.11148527 0.10710764 0.10434155 0.1018641  0.09397474 0.09782321\n",
            " 0.08721587 0.09760673 0.10032471 0.09294047 0.09250752 0.09753458\n",
            " 0.0927721  0.08851473 0.09017438 0.10027661 0.11191822 0.11720986\n",
            " 0.12647023 0.1270475  0.12440168 0.11244738 0.10010824 0.10535177\n",
            " 0.10739627 0.10487072 0.11316897 0.11165364 0.11201443 0.10984967\n",
            " 0.10835839 0.10773301 0.10831028 0.10306675 0.09741431 0.09469633\n",
            " 0.09508118 0.0857727  0.08543596 0.08420926 0.07372219 0.07437162\n",
            " 0.09007817 0.08365604 0.07629585 0.07165364 0.07475646 0.06258569\n",
            " 0.07395069 0.07129284 0.07605532 0.0738184  0.08093806 0.08473842\n",
            " 0.08279014 0.07261575 0.0713169  0.07949489 0.07745039 0.07155743\n",
            " 0.07276007 0.07425135 0.07468431 0.07110042 0.07651233 0.07855683\n",
            " 0.0756097  0.07615505 0.07675642 0.07733172 0.0778558  0.0783283\n",
            " 0.07875636 0.07914729 0.07950652 0.07983796 0.08014467 0.08042981\n",
            " 0.08069654 0.08094835 0.08118878 0.0814213  0.08164902 0.08187473\n",
            " 0.08210059 0.08232838 0.08255929 0.082794  ]\n",
            "22 day output [[0.08303285]]\n",
            "23 day input [0.0791341  0.0771377  0.07562237 0.09029465 0.09012628 0.09226699\n",
            " 0.08734817 0.0911365  0.09991581 0.09770295 0.10013229 0.11148527\n",
            " 0.10710764 0.10434155 0.1018641  0.09397474 0.09782321 0.08721587\n",
            " 0.09760673 0.10032471 0.09294047 0.09250752 0.09753458 0.0927721\n",
            " 0.08851473 0.09017438 0.10027661 0.11191822 0.11720986 0.12647023\n",
            " 0.1270475  0.12440168 0.11244738 0.10010824 0.10535177 0.10739627\n",
            " 0.10487072 0.11316897 0.11165364 0.11201443 0.10984967 0.10835839\n",
            " 0.10773301 0.10831028 0.10306675 0.09741431 0.09469633 0.09508118\n",
            " 0.0857727  0.08543596 0.08420926 0.07372219 0.07437162 0.09007817\n",
            " 0.08365604 0.07629585 0.07165364 0.07475646 0.06258569 0.07395069\n",
            " 0.07129284 0.07605532 0.0738184  0.08093806 0.08473842 0.08279014\n",
            " 0.07261575 0.0713169  0.07949489 0.07745039 0.07155743 0.07276007\n",
            " 0.07425135 0.07468431 0.07110042 0.07651233 0.07855683 0.0756097\n",
            " 0.07615505 0.07675642 0.07733172 0.0778558  0.0783283  0.07875636\n",
            " 0.07914729 0.07950652 0.07983796 0.08014467 0.08042981 0.08069654\n",
            " 0.08094835 0.08118878 0.0814213  0.08164902 0.08187473 0.08210059\n",
            " 0.08232838 0.08255929 0.082794   0.08303285]\n",
            "23 day output [[0.08327577]]\n",
            "24 day input [0.0771377  0.07562237 0.09029465 0.09012628 0.09226699 0.08734817\n",
            " 0.0911365  0.09991581 0.09770295 0.10013229 0.11148527 0.10710764\n",
            " 0.10434155 0.1018641  0.09397474 0.09782321 0.08721587 0.09760673\n",
            " 0.10032471 0.09294047 0.09250752 0.09753458 0.0927721  0.08851473\n",
            " 0.09017438 0.10027661 0.11191822 0.11720986 0.12647023 0.1270475\n",
            " 0.12440168 0.11244738 0.10010824 0.10535177 0.10739627 0.10487072\n",
            " 0.11316897 0.11165364 0.11201443 0.10984967 0.10835839 0.10773301\n",
            " 0.10831028 0.10306675 0.09741431 0.09469633 0.09508118 0.0857727\n",
            " 0.08543596 0.08420926 0.07372219 0.07437162 0.09007817 0.08365604\n",
            " 0.07629585 0.07165364 0.07475646 0.06258569 0.07395069 0.07129284\n",
            " 0.07605532 0.0738184  0.08093806 0.08473842 0.08279014 0.07261575\n",
            " 0.0713169  0.07949489 0.07745039 0.07155743 0.07276007 0.07425135\n",
            " 0.07468431 0.07110042 0.07651233 0.07855683 0.0756097  0.07615505\n",
            " 0.07675642 0.07733172 0.0778558  0.0783283  0.07875636 0.07914729\n",
            " 0.07950652 0.07983796 0.08014467 0.08042981 0.08069654 0.08094835\n",
            " 0.08118878 0.0814213  0.08164902 0.08187473 0.08210059 0.08232838\n",
            " 0.08255929 0.082794   0.08303285 0.08327577]\n",
            "24 day output [[0.08352239]]\n",
            "25 day input [0.07562237 0.09029465 0.09012628 0.09226699 0.08734817 0.0911365\n",
            " 0.09991581 0.09770295 0.10013229 0.11148527 0.10710764 0.10434155\n",
            " 0.1018641  0.09397474 0.09782321 0.08721587 0.09760673 0.10032471\n",
            " 0.09294047 0.09250752 0.09753458 0.0927721  0.08851473 0.09017438\n",
            " 0.10027661 0.11191822 0.11720986 0.12647023 0.1270475  0.12440168\n",
            " 0.11244738 0.10010824 0.10535177 0.10739627 0.10487072 0.11316897\n",
            " 0.11165364 0.11201443 0.10984967 0.10835839 0.10773301 0.10831028\n",
            " 0.10306675 0.09741431 0.09469633 0.09508118 0.0857727  0.08543596\n",
            " 0.08420926 0.07372219 0.07437162 0.09007817 0.08365604 0.07629585\n",
            " 0.07165364 0.07475646 0.06258569 0.07395069 0.07129284 0.07605532\n",
            " 0.0738184  0.08093806 0.08473842 0.08279014 0.07261575 0.0713169\n",
            " 0.07949489 0.07745039 0.07155743 0.07276007 0.07425135 0.07468431\n",
            " 0.07110042 0.07651233 0.07855683 0.0756097  0.07615505 0.07675642\n",
            " 0.07733172 0.0778558  0.0783283  0.07875636 0.07914729 0.07950652\n",
            " 0.07983796 0.08014467 0.08042981 0.08069654 0.08094835 0.08118878\n",
            " 0.0814213  0.08164902 0.08187473 0.08210059 0.08232838 0.08255929\n",
            " 0.082794   0.08303285 0.08327577 0.08352239]\n",
            "25 day output [[0.08377221]]\n",
            "26 day input [0.09029465 0.09012628 0.09226699 0.08734817 0.0911365  0.09991581\n",
            " 0.09770295 0.10013229 0.11148527 0.10710764 0.10434155 0.1018641\n",
            " 0.09397474 0.09782321 0.08721587 0.09760673 0.10032471 0.09294047\n",
            " 0.09250752 0.09753458 0.0927721  0.08851473 0.09017438 0.10027661\n",
            " 0.11191822 0.11720986 0.12647023 0.1270475  0.12440168 0.11244738\n",
            " 0.10010824 0.10535177 0.10739627 0.10487072 0.11316897 0.11165364\n",
            " 0.11201443 0.10984967 0.10835839 0.10773301 0.10831028 0.10306675\n",
            " 0.09741431 0.09469633 0.09508118 0.0857727  0.08543596 0.08420926\n",
            " 0.07372219 0.07437162 0.09007817 0.08365604 0.07629585 0.07165364\n",
            " 0.07475646 0.06258569 0.07395069 0.07129284 0.07605532 0.0738184\n",
            " 0.08093806 0.08473842 0.08279014 0.07261575 0.0713169  0.07949489\n",
            " 0.07745039 0.07155743 0.07276007 0.07425135 0.07468431 0.07110042\n",
            " 0.07651233 0.07855683 0.0756097  0.07615505 0.07675642 0.07733172\n",
            " 0.0778558  0.0783283  0.07875636 0.07914729 0.07950652 0.07983796\n",
            " 0.08014467 0.08042981 0.08069654 0.08094835 0.08118878 0.0814213\n",
            " 0.08164902 0.08187473 0.08210059 0.08232838 0.08255929 0.082794\n",
            " 0.08303285 0.08327577 0.08352239 0.08377221]\n",
            "26 day output [[0.08402461]]\n",
            "27 day input [0.09012628 0.09226699 0.08734817 0.0911365  0.09991581 0.09770295\n",
            " 0.10013229 0.11148527 0.10710764 0.10434155 0.1018641  0.09397474\n",
            " 0.09782321 0.08721587 0.09760673 0.10032471 0.09294047 0.09250752\n",
            " 0.09753458 0.0927721  0.08851473 0.09017438 0.10027661 0.11191822\n",
            " 0.11720986 0.12647023 0.1270475  0.12440168 0.11244738 0.10010824\n",
            " 0.10535177 0.10739627 0.10487072 0.11316897 0.11165364 0.11201443\n",
            " 0.10984967 0.10835839 0.10773301 0.10831028 0.10306675 0.09741431\n",
            " 0.09469633 0.09508118 0.0857727  0.08543596 0.08420926 0.07372219\n",
            " 0.07437162 0.09007817 0.08365604 0.07629585 0.07165364 0.07475646\n",
            " 0.06258569 0.07395069 0.07129284 0.07605532 0.0738184  0.08093806\n",
            " 0.08473842 0.08279014 0.07261575 0.0713169  0.07949489 0.07745039\n",
            " 0.07155743 0.07276007 0.07425135 0.07468431 0.07110042 0.07651233\n",
            " 0.07855683 0.0756097  0.07615505 0.07675642 0.07733172 0.0778558\n",
            " 0.0783283  0.07875636 0.07914729 0.07950652 0.07983796 0.08014467\n",
            " 0.08042981 0.08069654 0.08094835 0.08118878 0.0814213  0.08164902\n",
            " 0.08187473 0.08210059 0.08232838 0.08255929 0.082794   0.08303285\n",
            " 0.08327577 0.08352239 0.08377221 0.08402461]\n",
            "27 day output [[0.08427876]]\n",
            "28 day input [0.09226699 0.08734817 0.0911365  0.09991581 0.09770295 0.10013229\n",
            " 0.11148527 0.10710764 0.10434155 0.1018641  0.09397474 0.09782321\n",
            " 0.08721587 0.09760673 0.10032471 0.09294047 0.09250752 0.09753458\n",
            " 0.0927721  0.08851473 0.09017438 0.10027661 0.11191822 0.11720986\n",
            " 0.12647023 0.1270475  0.12440168 0.11244738 0.10010824 0.10535177\n",
            " 0.10739627 0.10487072 0.11316897 0.11165364 0.11201443 0.10984967\n",
            " 0.10835839 0.10773301 0.10831028 0.10306675 0.09741431 0.09469633\n",
            " 0.09508118 0.0857727  0.08543596 0.08420926 0.07372219 0.07437162\n",
            " 0.09007817 0.08365604 0.07629585 0.07165364 0.07475646 0.06258569\n",
            " 0.07395069 0.07129284 0.07605532 0.0738184  0.08093806 0.08473842\n",
            " 0.08279014 0.07261575 0.0713169  0.07949489 0.07745039 0.07155743\n",
            " 0.07276007 0.07425135 0.07468431 0.07110042 0.07651233 0.07855683\n",
            " 0.0756097  0.07615505 0.07675642 0.07733172 0.0778558  0.0783283\n",
            " 0.07875636 0.07914729 0.07950652 0.07983796 0.08014467 0.08042981\n",
            " 0.08069654 0.08094835 0.08118878 0.0814213  0.08164902 0.08187473\n",
            " 0.08210059 0.08232838 0.08255929 0.082794   0.08303285 0.08327577\n",
            " 0.08352239 0.08377221 0.08402461 0.08427876]\n",
            "28 day output [[0.08453399]]\n",
            "29 day input [0.08734817 0.0911365  0.09991581 0.09770295 0.10013229 0.11148527\n",
            " 0.10710764 0.10434155 0.1018641  0.09397474 0.09782321 0.08721587\n",
            " 0.09760673 0.10032471 0.09294047 0.09250752 0.09753458 0.0927721\n",
            " 0.08851473 0.09017438 0.10027661 0.11191822 0.11720986 0.12647023\n",
            " 0.1270475  0.12440168 0.11244738 0.10010824 0.10535177 0.10739627\n",
            " 0.10487072 0.11316897 0.11165364 0.11201443 0.10984967 0.10835839\n",
            " 0.10773301 0.10831028 0.10306675 0.09741431 0.09469633 0.09508118\n",
            " 0.0857727  0.08543596 0.08420926 0.07372219 0.07437162 0.09007817\n",
            " 0.08365604 0.07629585 0.07165364 0.07475646 0.06258569 0.07395069\n",
            " 0.07129284 0.07605532 0.0738184  0.08093806 0.08473842 0.08279014\n",
            " 0.07261575 0.0713169  0.07949489 0.07745039 0.07155743 0.07276007\n",
            " 0.07425135 0.07468431 0.07110042 0.07651233 0.07855683 0.0756097\n",
            " 0.07615505 0.07675642 0.07733172 0.0778558  0.0783283  0.07875636\n",
            " 0.07914729 0.07950652 0.07983796 0.08014467 0.08042981 0.08069654\n",
            " 0.08094835 0.08118878 0.0814213  0.08164902 0.08187473 0.08210059\n",
            " 0.08232838 0.08255929 0.082794   0.08303285 0.08327577 0.08352239\n",
            " 0.08377221 0.08402461 0.08427876 0.08453399]\n",
            "29 day output [[0.08478956]]\n",
            "[[0.07560969889163971], [0.07615505158901215], [0.07675641775131226], [0.07733172178268433], [0.07785579562187195], [0.07832829654216766], [0.07875636219978333], [0.07914729416370392], [0.079506516456604], [0.07983796298503876], [0.08014467358589172], [0.080429807305336], [0.08069653809070587], [0.0809483528137207], [0.08118878304958344], [0.08142130076885223], [0.08164902031421661], [0.08187472820281982], [0.08210058510303497], [0.08232837915420532], [0.08255928754806519], [0.08279399573802948], [0.08303284645080566], [0.08327576518058777], [0.08352239429950714], [0.083772212266922], [0.08402460813522339], [0.08427876234054565], [0.08453398942947388], [0.08478955924510956]]\n"
          ],
          "name": "stdout"
        }
      ]
    },
    {
      "cell_type": "code",
      "metadata": {
        "id": "wjjKDG1f65vu"
      },
      "source": [
        "day_new=np.arange(1,101)\n",
        "day_pred=np.arange(101,131)"
      ],
      "execution_count": 50,
      "outputs": []
    },
    {
      "cell_type": "code",
      "metadata": {
        "id": "Y9zf3mhS7CMF"
      },
      "source": [
        "import matplotlib.pyplot as plt"
      ],
      "execution_count": 51,
      "outputs": []
    },
    {
      "cell_type": "code",
      "metadata": {
        "colab": {
          "base_uri": "https://localhost:8080/"
        },
        "id": "w5EK-IgD7FUe",
        "outputId": "9b81d2d8-e86d-476a-ea91-f3704353f2c2"
      },
      "source": [
        "len(df1)"
      ],
      "execution_count": 52,
      "outputs": [
        {
          "output_type": "execute_result",
          "data": {
            "text/plain": [
              "1258"
            ]
          },
          "metadata": {
            "tags": []
          },
          "execution_count": 52
        }
      ]
    },
    {
      "cell_type": "code",
      "metadata": {
        "colab": {
          "base_uri": "https://localhost:8080/",
          "height": 282
        },
        "id": "EAeCjs4C7Kng",
        "outputId": "d150b519-afcf-4253-f261-26cd6bd6bf90"
      },
      "source": [
        "plt.plot(day_new,scaler.inverse_transform(df1[1158:]))\n",
        "plt.plot(day_pred,scaler.inverse_transform(lst_output))"
      ],
      "execution_count": 53,
      "outputs": [
        {
          "output_type": "execute_result",
          "data": {
            "text/plain": [
              "[<matplotlib.lines.Line2D at 0x7fc2eae277d0>]"
            ]
          },
          "metadata": {
            "tags": []
          },
          "execution_count": 53
        },
        {
          "output_type": "display_data",
          "data": {
            "image/png": "[encoded data removed]",
            "text/plain": [
              "<Figure size 432x288 with 1 Axes>"
            ]
          },
          "metadata": {
            "tags": [],
            "needs_background": "light"
          }
        }
      ]
    },
    {
      "cell_type": "code",
      "metadata": {
        "colab": {
          "base_uri": "https://localhost:8080/",
          "height": 286
        },
        "id": "NgGrGoUh7Njj",
        "outputId": "dc807336-859d-439a-fa31-08158a274710"
      },
      "source": [
        "df3=df1.tolist()\n",
        "df3.extend(lst_output)\n",
        "plt.plot(df3[1200:])"
      ],
      "execution_count": 54,
      "outputs": [
        {
          "output_type": "execute_result",
          "data": {
            "text/plain": [
              "[<matplotlib.lines.Line2D at 0x7fc2eae80ed0>]"
            ]
          },
          "metadata": {
            "tags": []
          },
          "execution_count": 54
        },
        {
          "output_type": "display_data",
          "data": {
            "image/png": "[encoded data removed]",
            "text/plain": [
              "<Figure size 432x288 with 1 Axes>"
            ]
          },
          "metadata": {
            "tags": [],
            "needs_background": "light"
          }
        }
      ]
    },
    {
      "cell_type": "code",
      "metadata": {
        "id": "0og-fsML7VFC"
      },
      "source": [
        "df3=scaler.inverse_transform(df3).tolist()"
      ],
      "execution_count": 55,
      "outputs": []
    },
    {
      "cell_type": "code",
      "metadata": {
        "colab": {
          "base_uri": "https://localhost:8080/",
          "height": 282
        },
        "id": "afzKZ1fH7ZcD",
        "outputId": "b47355bc-1dcc-4908-da53-64ad588b3a61"
      },
      "source": [
        "plt.plot(df3)"
      ],
      "execution_count": 56,
      "outputs": [
        {
          "output_type": "execute_result",
          "data": {
            "text/plain": [
              "[<matplotlib.lines.Line2D at 0x7fc2eae23f10>]"
            ]
          },
          "metadata": {
            "tags": []
          },
          "execution_count": 56
        },
        {
          "output_type": "display_data",
          "data": {
            "image/png": "[encoded data removed]",
            "text/plain": [
              "<Figure size 432x288 with 1 Axes>"
            ]
          },
          "metadata": {
            "tags": [],
            "needs_background": "light"
          }
        }
      ]
    }
  ]
}